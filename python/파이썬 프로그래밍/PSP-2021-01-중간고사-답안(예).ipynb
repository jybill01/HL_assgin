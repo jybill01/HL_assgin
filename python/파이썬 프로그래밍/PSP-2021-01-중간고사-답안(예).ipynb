{
 "cells": [
  {
   "cell_type": "markdown",
   "metadata": {},
   "source": [
    "<h1 align='center'> 파이썬과학프로그래밍기초 중간고사</h1>\n",
    "\n",
    "<h3 align='center'> 담당교수 : 박섭형</h3>\n",
    "\n",
    "<p style=\"text-align: right\"> 2021.4.21</p>"
   ]
  },
  {
   "cell_type": "markdown",
   "metadata": {},
   "source": [
    "\n",
    "### 문제 1.\n",
    "\n",
    "다음 함수는 dictionary d에 있는 value 중에서 중복되지 않고 한 번만 나타나는 값을 가진 keys를 리스트로 반환하는 함수이다. \n",
    "\n",
    "단, 입력되는 dictionary의 key는 모두 ASCII 문자이고, value는 모두 정수라고 가정한다.\n",
    "\n",
    "반환되는 리스트 안의 keys는 ASCII 값이 작은 문자부터 큰 문자 순으로 정렬되어야 한다.\n",
    "\n",
    "'A' < 'B' < ... < 'Z' < 'a' < 'b' < ... 'z'\n",
    "\n",
    "고유한 값이 없는 경우에는 빈 리스트를 반환해야 한다.\n",
    "\n",
    "이 함수를 완성하라. \n",
    "\n",
    "\n",
    "\n",
    "```\n",
    "def get_keys_of_unique_values(d):\n",
    "\n",
    "```\n",
    "\n",
    "다음은 dictionary와 반환값의 예이다.\n",
    "```\n",
    "입력:   {'i': 2, 'k': 5, 'D': 9, 'O': 1, 'L': 10, 'E': 2, 'p': 10}\n",
    "반환값: ['D', 'O', 'k']\n",
    "\n",
    "입력:   {'B': 8, 'O': 4, 'o': 2, 'u': 5, 'f': 6, 'M': 7, 'k': 10, 'Q': 8, 'L': 1, 'F': 5}\n",
    "반환값: ['L', 'M', 'O', 'f', 'k', 'o']\n",
    "\n",
    "입력:   {'N': 1, 't': 10, 'G': 10, 'X': 10, 'e': 3, 'j': 5, 'f': 6, 'E': 9, 'v': 4, 'I': 2}\n",
    "반환값: ['E', 'I', 'N', 'e', 'f', 'j', 'v']\n",
    "\n",
    "입력:   {'K': 6, 'w': 1, 'U': 10, 'W': 1, 'R': 3, 'v': 3, 'n': 9, 'T': 10}\n",
    "반환값: ['K', 'n']\n",
    "\n",
    "입력:   {'j': 10, 'M': 6, 'C': 3, 'q': 6, 'x': 2, 'E': 2, 'd': 1, 'T': 9, 'D': 1, 'e': 9}\n",
    "반환값: ['C', 'j']\n",
    "\n",
    "입력:   {'j': 2, 'y': 6, 'S': 10, 'T': 1, 'W': 10, 'k': 4, 'g': 6, 'Z': 7, 'c': 6}\n",
    "반환값: ['T', 'Z', 'j', 'k']\n",
    "\n",
    "입력:   {'B': 5, 'l': 6, 'L': 9, 'c': 1, 'e': 6, 'C': 7, 'Y': 9, 'O': 9, 'm': 6}\n",
    "반환값: ['B', 'C', 'c']\n",
    "\n",
    "입력:   {'c': 5, 'k': 6, 'A': 5, 'C': 7, 'z': 6, 'W': 7, 'b': 5, 'Q': 9, 'n': 9}\n",
    "반환값: [ ]\n",
    "```\n"
   ]
  },
  {
   "cell_type": "code",
   "execution_count": 4,
   "metadata": {},
   "outputs": [
    {
     "name": "stdout",
     "output_type": "stream",
     "text": [
      "['D', 'O', 'k']\n",
      "['L', 'M', 'O', 'f', 'k', 'o']\n",
      "['E', 'I', 'N', 'e', 'f', 'j', 'v']\n",
      "['K', 'n']\n",
      "['C', 'j']\n",
      "['T', 'Z', 'j', 'k']\n",
      "['B', 'C', 'c']\n",
      "[]\n"
     ]
    }
   ],
   "source": [
    "def get_keys_of_unique_values(d):\n",
    "    values = list(d.values())\n",
    "    unique_values = []\n",
    "    for e in values:\n",
    "        if values.count(e) == 1:\n",
    "            unique_values.append(e)\n",
    "\n",
    "    keys_with_unique_value = []\n",
    "    for k, i in d.items():\n",
    "        if i in unique_values:\n",
    "            keys_with_unique_value.append(k)\n",
    "#    print(values)\n",
    "#    print(unique_values)\n",
    "    return sorted(keys_with_unique_value)\n",
    "\n",
    "\n",
    "def get_keys_of_unique_values_student_a(d):\n",
    "    memo =[0,0,0,0,0,0,0,0,0,0,0]\n",
    "    lst = []\n",
    "    for i in d:\n",
    "        memo[d[i]] +=1\n",
    "    for i in range (len(memo)):\n",
    "        if (memo[i]==1):\n",
    "            for j in d:\n",
    "                if(i==d[j]):\n",
    "                    lst.append(j)\n",
    "    lst.sort()\n",
    "    return lst\n",
    "\n",
    "\n",
    "def get_keys_of_unique_values_student_b(d):\n",
    "    temp = 0 # for loop 안에서 비교할 딕셔너리의 value값을 저장할 변수\n",
    "    temp = [] # 중복된 value를 가진 key들의 리스트\n",
    "    res = [] # 반환할 key들을 저장할 리스트\n",
    "    \n",
    "    for i in d:\n",
    "        for j in d:\n",
    "            if i != j and d[i] == d[j]:\n",
    "                temp.append(i) # 중복되면 temp에 추가\n",
    "                \n",
    "    # temp에 없는 key들을 저장\n",
    "    for k in d:\n",
    "        if k not in temp:\n",
    "            res.append(k) # 반환할 리스트에 추가\n",
    "    \n",
    "    # 오름차순 정렬\n",
    "    res.sort()\n",
    "    \n",
    "    return res\n",
    "\n",
    "dictionaries = [{'i': 2, 'k': 5, 'D': 9, 'O': 1, 'L': 10, 'E': 2, 'p': 10},\n",
    "                {'B': 8, 'O': 4, 'o': 2, 'u': 5, 'f': 6, 'M': 7, 'k': 10, 'Q': 8, 'L': 1, 'F': 5},\n",
    "                {'N': 1, 't': 10, 'G': 10, 'X': 10, 'e': 3, 'j': 5, 'f': 6, 'E': 9, 'v': 4, 'I': 2},\n",
    "                {'K': 6, 'w': 1, 'U': 10, 'W': 1, 'R': 3, 'v': 3, 'n': 9, 'T': 10},\n",
    "                {'j': 10, 'M': 6, 'C': 3, 'q': 6, 'x': 2, 'E': 2, 'd': 1, 'T': 9, 'D': 1, 'e': 9},\n",
    "                {'j': 2, 'y': 6, 'S': 10, 'T': 1, 'W': 10, 'k': 4, 'g': 6, 'Z': 7, 'c': 6},\n",
    "                {'B': 5, 'l': 6, 'L': 9, 'c': 1, 'e': 6, 'C': 7, 'Y': 9, 'O': 9, 'm': 6},\n",
    "                {'c': 5, 'k': 6, 'A': 5, 'C': 7, 'z': 6, 'W': 7, 'b': 5, 'Q': 9, 'n': 9}\n",
    "               ]\n",
    "\n",
    "for d in dictionaries:\n",
    "    print(get_keys_of_unique_values(d))"
   ]
  },
  {
   "cell_type": "markdown",
   "metadata": {},
   "source": [
    "### 문제 2.\n",
    "\n",
    "다음과 같이 주어지는 분수를 표현하는 문자열의 튜플이 있다.\n",
    "```\n",
    "fractions = ('16/32',  '49/43',  '51/62',  '38/27',  '17/76',  '30/58',\n",
    "             '45/74',  '20/74',  '26/95',  '34/37',  '34/59',  '38/97',\n",
    "             '45/34',  '26/26',  '28/76',  '38/36',  '33/87',  '24/47',\n",
    "             '46/98',  '25/66')\n",
    "```\n",
    "문자열의 split method를 사용하여 문자열로 표현된 분수 중 분모(denominator)가 가장 큰 분수를 구하여 콘솔에 출력하는 프로그램을 작성하라.\n"
   ]
  },
  {
   "cell_type": "code",
   "execution_count": 13,
   "metadata": {},
   "outputs": [
    {
     "name": "stdout",
     "output_type": "stream",
     "text": [
      "46/98\n"
     ]
    }
   ],
   "source": [
    "fractions = ('16/32',  '49/43',  '51/62',  '38/27',  '17/76',  '30/58',\n",
    "             '45/74',  '20/74',  '26/95',  '34/37',  '34/59',  '38/97',\n",
    "             '45/34',  '26/26',  '28/76',  '38/36',  '33/87',  '24/47',\n",
    "             '46/98',  '25/66')\n",
    "\n",
    "fd = {f:int(f.split('/')[1])  for f in fractions}\n",
    "max_den = max(fd.values())\n",
    "for k, v in fd.items():\n",
    "    if v == max_den:\n",
    "        print(k)\n",
    "\n",
    "        \n",
    "        "
   ]
  },
  {
   "cell_type": "code",
   "execution_count": 14,
   "metadata": {},
   "outputs": [
    {
     "name": "stdout",
     "output_type": "stream",
     "text": [
      "98\n"
     ]
    },
    {
     "data": {
      "text/plain": [
       "'46/98'"
      ]
     },
     "execution_count": 14,
     "metadata": {},
     "output_type": "execute_result"
    }
   ],
   "source": [
    "#### 학생 답안 예\n",
    "seen = []\n",
    "for i in range(19):\n",
    "    seen.append(fractions[i].split('/')[1])\n",
    "maxValue = seen[0]\n",
    "for i in range(1, len(seen)):\n",
    "    if maxValue < seen[i]:\n",
    "        maxValue = seen[i]\n",
    "print(maxValue)\n",
    "seen.index(maxValue)\n",
    "fractions[seen.index(maxValue)]"
   ]
  },
  {
   "cell_type": "markdown",
   "metadata": {},
   "source": [
    "### 문제 3.\n",
    "\n",
    "$[a, b]$에서 적분가능한 함수 $f(x)$의 적분 근사값을 다음과 같이 정의하자.\n",
    "\n",
    "$$\\displaystyle \\int_a^b f(x) \\; dx \\approx  \\sum_{k=0}^{n-1} f(x_k) \\Delta,$$\n",
    "여기에서 $\\Delta = \\frac{b-a}{n}$ and $x_k = a + \\Delta k $.\n",
    "\n",
    "\n"
   ]
  },
  {
   "cell_type": "markdown",
   "metadata": {},
   "source": [
    "#### 문제 3-1\n",
    "\n",
    "이 적분의 근사식을 반환하는 함수 approximate_integrate(f, a, b, /, n=100) 를 완성하라. 단, 함수 내부에 for loop을 사용하여야 한다.\n",
    "\n",
    "여기에서 f는 적분할 함수이고, a, b, n은 위의 설명과 같다."
   ]
  },
  {
   "cell_type": "code",
   "execution_count": 6,
   "metadata": {},
   "outputs": [
    {
     "data": {
      "text/plain": [
       "0.9921254566056331"
      ]
     },
     "execution_count": 6,
     "metadata": {},
     "output_type": "execute_result"
    }
   ],
   "source": [
    "def approximate_integrate(f, a, b, /, n=100):\n",
    "    delta = (b - a) / n\n",
    "    total = 0\n",
    "\n",
    "    for k in range(n):\n",
    "         total += f(delta * k)\n",
    "    integral = total * delta\n",
    "    return integral\n",
    "\n",
    "\n",
    "import math\n",
    "n = 1000\n",
    "approximate_integrate(math.sin, 0, math.pi/2, n)"
   ]
  },
  {
   "cell_type": "markdown",
   "metadata": {},
   "source": [
    "#### 문제 3-2\n",
    "\n",
    "문제 3-1에서 만든 함수 내부에서 reduce 함수를 사용하여 approximate_integrate_reduce(f, a, b, /, n=100) 를 완성하라.\n"
   ]
  },
  {
   "cell_type": "code",
   "execution_count": 8,
   "metadata": {
    "scrolled": true
   },
   "outputs": [],
   "source": [
    "def approximate_integrate_reduce(f, a, b, /, n=100):\n",
    "    delta = (b - a) / n\n",
    "    fkd = [f(delta*k) for k in range(n)]\n",
    "    total = reduce(lambda a,b:a+b, fkd)\n",
    "    return total * delta\n",
    "\n",
    "\n",
    "import math\n",
    "from functools import reduce\n",
    "\n",
    "\n"
   ]
  },
  {
   "cell_type": "markdown",
   "metadata": {},
   "source": [
    "#### 문제 3-3\n",
    "\n",
    "문제 3-1 서 만든 함수 approximate_integrate(f, a, b, /, n=100) 를 이용해서 다음 적분의 근사값을 구하려고 한다.\n",
    "\n",
    "$$\\displaystyle \\int_0^{\\pi/2} \\sin(x) \\; dx = 1,$$\n",
    "\n",
    "단, $n = 10, 20, 30, 40, 50, 60, 70, 80, 90, 100$일 때 적분의 근사값을 구하고 1에서 이 근사값을 뺀 오차를 아래 그래프처럼 그리는 프로그램을 완성하라.\n",
    "\n",
    "예를 들어서, $n = 10, 20, 30, 40, 50, 60, 70, 80, 90, 100$일 때 적분의 근사값과 오차(1-근사값)은 다음과 같이 구해진다.\n",
    "\n",
    "```\n",
    "n=10: 근사값 = 0.9194031700146124, 오차 = 0.08059682998538764\n",
    "n=20: 근사값 = 0.9602159970786605, 오차 = 0.039784002921339545\n",
    "n=30: 근사값 = 0.9735915877154891, 오차 = 0.02640841228451085\n",
    "n=40: 근사값 = 0.9802365321379816, 오차 = 0.019763467862018436\n",
    "n=50: 근사값 = 0.9842097886757729, 오차 = 0.015790211324227088\n",
    "n=60: 근사값 = 0.9868529141913794, 오차 = 0.013147085808620562\n",
    "n=70: 근사값 = 0.9887380632812566, 오차 = 0.011261936718743426\n",
    "n=80: 근사값 = 0.9901503951326001, 오차 = 0.009849604867399941\n",
    "n=90: 근사값 = 0.9912479688261675, 오차 = 0.008752031173832497\n",
    "n=100: 근사값 = 0.9921254566056331, 오차 = 0.007874543394366884\n",
    "```"
   ]
  },
  {
   "cell_type": "code",
   "execution_count": 9,
   "metadata": {},
   "outputs": [
    {
     "data": {
      "text/latex": [
       "$\\displaystyle 1$"
      ],
      "text/plain": [
       "1"
      ]
     },
     "execution_count": 9,
     "metadata": {},
     "output_type": "execute_result"
    }
   ],
   "source": [
    "import sympy as sym\n",
    "\n",
    "x = sym.Symbol('x')\n",
    "\n",
    "sym.integrate(sym.sin(x), (x, 0, sym.pi/2))"
   ]
  },
  {
   "cell_type": "code",
   "execution_count": 10,
   "metadata": {},
   "outputs": [
    {
     "data": {
      "image/png": "[encoded data removed]",
      "text/plain": [
       "<Figure size 432x288 with 1 Axes>"
      ]
     },
     "metadata": {
      "needs_background": "light"
     },
     "output_type": "display_data"
    }
   ],
   "source": [
    "import matplotlib.pyplot as plt\n",
    "\n",
    "integrals = []\n",
    "for n in range(10, 110, 10):\n",
    "    integrals.append(1 - approximate_integrate_reduce(math.sin, 0, math.pi/2, n))\n",
    "integrals    \n",
    "\n",
    "plt.bar(range(10, 110, 10), integrals, width=5)\n",
    "plt.xticks(range(10, 110, 10))\n",
    "plt.xlabel(\"$n$\")\n",
    "plt.ylabel(\"Approximation error\")\n",
    "plt.savefig('approximation_error.png')\n",
    "plt.show()"
   ]
  },
  {
   "cell_type": "markdown",
   "metadata": {},
   "source": [
    "### 문제 4.\n",
    "\n",
    "다음 재귀 함수 magic이 왜 이런 출력을 내는지 이 프로그램의 각 라인이 동작되는 순서와 각 라인에서 n 값이 어떻게 변하는지 설명하라.\n",
    "\n",
    "설명 예:\n",
    "\n",
    "- line 7: magic(3945)\n",
    "- line 1: def magic(n) - n에 3945의 주소가 전달된다\n",
    "- line 2: \n",
    ".\n",
    ".\n",
    ".\n",
    "\n"
   ]
  },
  {
   "cell_type": "code",
   "execution_count": 92,
   "metadata": {},
   "outputs": [
    {
     "name": "stdout",
     "output_type": "stream",
     "text": [
      "3945\n",
      "394\n",
      "39\n",
      "3\n",
      "39\n",
      "394\n",
      "3945\n"
     ]
    }
   ],
   "source": [
    "def magic(n):\n",
    "    print(n)\n",
    "    if n >= 10:\n",
    "        magic(n//10)\n",
    "        print(n) \n",
    "\n",
    "magic(3945)        "
   ]
  },
  {
   "cell_type": "markdown",
   "metadata": {},
   "source": [
    "**답**:\n",
    "\n",
    "- line 7: magic(3945)\n",
    "- line 1: def magic(n) - n에 3945의 주소가 전달된다\n",
    "- line 2: 현재 n인 3945를 출력한다.\n",
    "- line 3: 현재 n이 3945이므로 10보다 크다.\n",
    "- line 4: 현재 n인 3945를 10으로 나눈 몫인 394를 def magic(n)에 전달한다.\n",
    "- line 2: 현재 n인 394를 출력한다.\n",
    "- line 3: 현재 n이 394이므로 10보다 크다.\n",
    "- line 4: 현재 n인 394를 10으로 나눈 몫인 39를 def magic(n)에 전달한다.\n",
    "- line 2: 현재 n인 39를 출력한다.\n",
    "- line 3: 현재 n이 39이므로 10보다 크다.\n",
    "- line 4: 현재 n인 39를 10으로 나눈 몫인 3을 def magic(n)에 전달한다.\n",
    "- line 2: 현재 n인 3을 출력한다.\n",
    "- line 3: 현재 n이 3이므로 10보다 작다. def magic(3) 종료.\n",
    "- line 5: 현재 n인 39를 출력한다. def magic(39) 종료.\n",
    "- line 5: 현재 n인 394를 출력한다. def magic(394) 종료.\n",
    "- line 5: 현재 n인 3945를 출력한다. def magic(3945) 종료."
   ]
  }
 ],
 "metadata": {
  "kernelspec": {
   "display_name": "Python 3",
   "language": "python",
   "name": "python3"
  },
  "language_info": {
   "codemirror_mode": {
    "name": "ipython",
    "version": 3
   },
   "file_extension": ".py",
   "mimetype": "text/x-python",
   "name": "python",
   "nbconvert_exporter": "python",
   "pygments_lexer": "ipython3",
   "version": "3.8.5"
  },
  "latex_envs": {
   "LaTeX_envs_menu_present": true,
   "autoclose": false,
   "autocomplete": true,
   "bibliofile": "biblio.bib",
   "cite_by": "apalike",
   "current_citInitial": 1,
   "eqLabelWithNumbers": true,
   "eqNumInitial": 1,
   "hotkeys": {
    "equation": "Ctrl-E",
    "itemize": "Ctrl-I"
   },
   "labels_anchors": false,
   "latex_user_defs": false,
   "report_style_numbering": false,
   "user_envs_cfg": false
  },
  "toc": {
   "base_numbering": 1,
   "nav_menu": {},
   "number_sections": false,
   "sideBar": true,
   "skip_h1_title": false,
   "title_cell": "Table of Contents",
   "title_sidebar": "Contents",
   "toc_cell": false,
   "toc_position": {
    "height": "calc(100% - 180px)",
    "left": "10px",
    "top": "150px",
    "width": "270.5px"
   },
   "toc_section_display": true,
   "toc_window_display": false
  }
 },
 "nbformat": 4,
 "nbformat_minor": 2
}
