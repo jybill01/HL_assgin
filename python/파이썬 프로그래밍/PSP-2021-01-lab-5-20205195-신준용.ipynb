{
 "cells": [
  {
   "cell_type": "markdown",
   "metadata": {},
   "source": [
    "<h1 align='center'> 파이썬과학프로그래밍기초 실습 5</h1>\n",
    "\n",
    "<p style=\"text-align: right\"> 2021.4.7.</p>"
   ]
  },
  {
   "cell_type": "markdown",
   "metadata": {},
   "source": [
    "<div class=\"alert alert-block alert-info\">\n",
    "    \n",
    "- 파일 이름에서 00000000을 자신의 학번으로, name을 자신의 이름으로 수정하세요.\n",
    "\n",
    "- 다음 줄에 자신의 이름, 학번, 학과(전공)을 적으세요.\n",
    "\n",
    "* 이름:   &nbsp;&nbsp;          학번:    &nbsp;&nbsp;         학과(전공):\n",
    "    \n",
    "</div>\n",
    "\n",
    "- Jupyter notebook에 대한 설명은 [The Jupyter Notebook](https://jupyter-notebook.readthedocs.io/en/stable/)을  참고하라\n",
    "\n",
    "- Markdown은 [Markdown Guide](https://www.markdownguide.org/)를 참고하라.\n",
    "- [Markdown Cheat Sheet](https://www.markdownguide.org/cheat-sheet/)\n",
    "\n",
    "* 1차 제출: 오후 3:20까지 실습 시간에 마무리한 것을 제출\n",
    "* 2차 마감: 1차 제출시 완성하지 못한 학생들은 4월 9일 (금) 오후 6:00까지 최종본 제출. \n",
    "  1차에 모든 과제를 완성한 학생들도 1차와 2차에 모두 제출해야 함.\n"
   ]
  },
  {
   "cell_type": "markdown",
   "metadata": {},
   "source": [
    "#### 문제 1.\n",
    "아래 셀에 적힌 프로그램에서 답이 16 16이 아닌 4 16이 되는 이유를 설명하라.\n",
    "\n",
    "**답**: square함수 안에있는 ans는 함수의 지역변수이기 때문에 출력한 ans와는 다르다. 그래서 ans는 처음에 입력한 4이다."
   ]
  },
  {
   "cell_type": "code",
   "execution_count": 1,
   "metadata": {},
   "outputs": [
    {
     "name": "stdout",
     "output_type": "stream",
     "text": [
      "4 16\n"
     ]
    }
   ],
   "source": [
    "def square(x):\n",
    "    ans = x*x\n",
    "    return ans\n",
    "\n",
    "ans = 4\n",
    "result = square(ans)\n",
    "print(ans, result)"
   ]
  },
  {
   "cell_type": "markdown",
   "metadata": {},
   "source": [
    "#### 문제 2.\n",
    "리스트를 입력받아 리스트의 원소 중에 정수와 실수의 합을 반환하는 함수를 작성하라. 리스트의 원소로 리스트나 튜플이 있는 경우는 합을 계산할 때 제외한다.\n",
    "\n",
    "작성된 함수를 이용해서 아래 리스트에 있는 숫자들의 합을 구하라.\n",
    "\n",
    "```\n",
    "x1 = [1, 3, 5, 7, 9]                     # 25\n",
    "x2 = [\"abc\", [3, 5], 3.5, 2+3j, 4.5, 10] # 18.0\n",
    "x3 = []                                  # 0\n",
    "```"
   ]
  },
  {
   "cell_type": "code",
   "execution_count": null,
   "metadata": {
    "scrolled": true
   },
   "outputs": [],
   "source": [
    "def array_sum(a):\n",
    "    sum = 0\n",
    "    for i in a:\n",
    "        if type(i) == int or type(i) == float:\n",
    "            sum = sum + i\n",
    "    return sum\n",
    "\n",
    "x = [\"abc\", [3, 5], 3.5, 2+3j, 4.5, 10]\n",
    "print(array_sum(x))"
   ]
  },
  {
   "cell_type": "markdown",
   "metadata": {},
   "source": [
    "#### 문제 3.\n",
    " 문자열을 입력받아서 문자열의 순서를 반대로 만든 문자열을 반환하는 함수 reverse_string 을 작성하라."
   ]
  },
  {
   "cell_type": "code",
   "execution_count": 31,
   "metadata": {
    "scrolled": true
   },
   "outputs": [
    {
     "name": "stdout",
     "output_type": "stream",
     "text": [
      "문자열을 입력하세요abcde\n",
      "abcde\n",
      "edcba\n"
     ]
    }
   ],
   "source": [
    "def reverse_string (s):\n",
    "    s2 = list(s)\n",
    "    s2.reverse()\n",
    "    return s2\n",
    "\n",
    "s = input(\"문자열을 입력하세요\")\n",
    "print(s)\n",
    "print(''.join(reverse_string(s)))"
   ]
  },
  {
   "cell_type": "markdown",
   "metadata": {},
   "source": [
    "#### 예제 1.\n",
    "리스트 메쏘드 중에 append는 다음과 같은 기능을 한다.\n",
    "```\n",
    "Help on method_descriptor:\n",
    "\n",
    "append(self, object, /)\n",
    "    Append object to the end of the list.\n",
    "```"
   ]
  },
  {
   "cell_type": "code",
   "execution_count": 32,
   "metadata": {},
   "outputs": [
    {
     "data": {
      "text/plain": [
       "[1, 2, 3, 's']"
      ]
     },
     "execution_count": 32,
     "metadata": {},
     "output_type": "execute_result"
    }
   ],
   "source": [
    "lst = [1, 2, 3]\n",
    "lst.append('s')\n",
    "lst"
   ]
  },
  {
   "cell_type": "markdown",
   "metadata": {},
   "source": [
    "리스트 메쏘드를 사용하지 않고 이와 같은 기능을 하는 함수를 다음과 같이 만들 수 있다."
   ]
  },
  {
   "cell_type": "code",
   "execution_count": 33,
   "metadata": {},
   "outputs": [
    {
     "data": {
      "text/plain": [
       "[1, 2, 3, 's']"
      ]
     },
     "execution_count": 33,
     "metadata": {},
     "output_type": "execute_result"
    }
   ],
   "source": [
    "def list_append(lst, obj):\n",
    "    lst += [obj]\n",
    "    \n",
    "lst = [1, 2, 3]\n",
    "list_append(lst, 's')\n",
    "lst\n",
    "\n"
   ]
  },
  {
   "cell_type": "code",
   "execution_count": 34,
   "metadata": {},
   "outputs": [
    {
     "data": {
      "text/plain": [
       "True"
      ]
     },
     "execution_count": 34,
     "metadata": {},
     "output_type": "execute_result"
    }
   ],
   "source": [
    "lst1 = [1, 2, 3]\n",
    "lst2 = lst1.copy()\n",
    "\n",
    "lst1.append('a') == list_append(lst2, 'a')"
   ]
  },
  {
   "cell_type": "markdown",
   "metadata": {},
   "source": [
    "#### 문제 4.\n",
    "예제 1에서 list_append 함수에서 parameter인 lst의 값을 수정했는데도 global 변수인 lst의 내용이 변경되었다. 그 이유를 설명하라.\n",
    "\n",
    "**답**:리스트는 원래 값에서 추가하거나 변경하는 것은 변경된다."
   ]
  },
  {
   "cell_type": "markdown",
   "metadata": {},
   "source": [
    "#### 문제 5.\n",
    "다음은 리스트 메쏘드의 일부이다.\n",
    "\n",
    "- extend\n",
    "- insert\n",
    "- pop\n",
    "- remove\n",
    "- reverse\n",
    "\n",
    "이 메쏘드와 같은 기능을 하는 list_method 함수를 만들고 몇 가지 예를 시험하여 리스트 메쏘드와 기능이 같은지 검증하라. 단, 리스트 메쏘드는 사용하면 안된다."
   ]
  },
  {
   "cell_type": "code",
   "execution_count": 63,
   "metadata": {
    "scrolled": true
   },
   "outputs": [
    {
     "name": "stdout",
     "output_type": "stream",
     "text": [
      "Help on method_descriptor:\n",
      "\n",
      "extend(self, iterable, /)\n",
      "    Extend list by appending elements from the iterable.\n",
      "\n"
     ]
    }
   ],
   "source": [
    "help(list.extend)"
   ]
  },
  {
   "cell_type": "code",
   "execution_count": 66,
   "metadata": {
    "scrolled": false
   },
   "outputs": [
    {
     "data": {
      "text/plain": [
       "['a', 'b', 'c', 'apple', 'ping']"
      ]
     },
     "execution_count": 66,
     "metadata": {},
     "output_type": "execute_result"
    }
   ],
   "source": [
    "def list_extend(lst, iterable, /):\n",
    "    lst += interable\n",
    "\n",
    "lst = ['a', 'b', 'c']\n",
    "interable = ['apple', 'ping']\n",
    "list_extend(lst, interable)\n",
    "lst"
   ]
  },
  {
   "cell_type": "code",
   "execution_count": 65,
   "metadata": {},
   "outputs": [
    {
     "data": {
      "text/plain": [
       "['a', 'b', 'c', 'apple', 'ping']"
      ]
     },
     "execution_count": 65,
     "metadata": {},
     "output_type": "execute_result"
    }
   ],
   "source": [
    "lst = ['a', 'b', 'c']\n",
    "interable = ['apple', 'ping']\n",
    "lst.extend(interable)\n",
    "lst"
   ]
  },
  {
   "cell_type": "code",
   "execution_count": 67,
   "metadata": {
    "scrolled": true
   },
   "outputs": [
    {
     "name": "stdout",
     "output_type": "stream",
     "text": [
      "Help on method_descriptor:\n",
      "\n",
      "insert(self, index, object, /)\n",
      "    Insert object before index.\n",
      "\n"
     ]
    }
   ],
   "source": [
    "help(list.insert)"
   ]
  },
  {
   "cell_type": "code",
   "execution_count": 9,
   "metadata": {},
   "outputs": [
    {
     "name": "stdout",
     "output_type": "stream",
     "text": [
      "[1, 2, 9, 3, 4]\n"
     ]
    }
   ],
   "source": [
    "def list_insert(lst, index, obj, /):\n",
    "    lst_1 = lst[0:index]\n",
    "    lst_2 = lst[index:len(lst)]\n",
    "    lst_1.append(obj)\n",
    "    return lst_1 + lst_2\n",
    "    \n",
    "lst = [1, 2, 3, 4]\n",
    "print(list_insert(lst, 2, 9))\n"
   ]
  },
  {
   "cell_type": "code",
   "execution_count": 11,
   "metadata": {},
   "outputs": [
    {
     "data": {
      "text/plain": [
       "[1, 2, 9, 3, 4]"
      ]
     },
     "execution_count": 11,
     "metadata": {},
     "output_type": "execute_result"
    }
   ],
   "source": [
    "lst = [1, 2, 3, 4]\n",
    "lst.insert(2, 9)\n",
    "lst"
   ]
  },
  {
   "cell_type": "code",
   "execution_count": 12,
   "metadata": {
    "scrolled": true
   },
   "outputs": [
    {
     "name": "stdout",
     "output_type": "stream",
     "text": [
      "Help on method_descriptor:\n",
      "\n",
      "pop(self, index=-1, /)\n",
      "    Remove and return item at index (default last).\n",
      "    \n",
      "    Raises IndexError if list is empty or index is out of range.\n",
      "\n"
     ]
    }
   ],
   "source": [
    "help(list.pop)"
   ]
  },
  {
   "cell_type": "code",
   "execution_count": 60,
   "metadata": {
    "scrolled": false
   },
   "outputs": [
    {
     "name": "stdout",
     "output_type": "stream",
     "text": [
      "1\n",
      "2\n"
     ]
    },
    {
     "data": {
      "text/plain": [
       "[1, 3]"
      ]
     },
     "execution_count": 60,
     "metadata": {},
     "output_type": "execute_result"
    }
   ],
   "source": [
    "def list_pop(lst, index=-1, /):\n",
    "    if index >= len(lst):\n",
    "        return 0, lst\n",
    "    lst_1 = lst[0:index]\n",
    "    lst_2 = lst[index + 1:len(lst)]\n",
    "    print(index)\n",
    "    return lst[index], lst_1 + lst_2\n",
    "    \n",
    "lst = [1, 2, 3]\n",
    "x, y = list_pop(lst, 1)\n",
    "lst = y\n",
    "print(x)\n",
    "lst"
   ]
  },
  {
   "cell_type": "code",
   "execution_count": 64,
   "metadata": {},
   "outputs": [
    {
     "name": "stdout",
     "output_type": "stream",
     "text": [
      "2\n"
     ]
    },
    {
     "data": {
      "text/plain": [
       "[1, 3]"
      ]
     },
     "execution_count": 64,
     "metadata": {},
     "output_type": "execute_result"
    }
   ],
   "source": [
    "lst = [1, 2, 3]\n",
    "print(lst.pop(1))\n",
    "lst"
   ]
  },
  {
   "cell_type": "code",
   "execution_count": 61,
   "metadata": {
    "scrolled": false
   },
   "outputs": [
    {
     "name": "stdout",
     "output_type": "stream",
     "text": [
      "Help on built-in function pop:\n",
      "\n",
      "pop(index=-1, /) method of builtins.list instance\n",
      "    Remove and return item at index (default last).\n",
      "    \n",
      "    Raises IndexError if list is empty or index is out of range.\n",
      "\n"
     ]
    }
   ],
   "source": [
    "help(lst.pop)"
   ]
  },
  {
   "cell_type": "markdown",
   "metadata": {},
   "source": [
    "#### 문제 6.\n",
    " Python 함수는 여러 개의 객체를 반환할 수도 있다. 예를 들면, divmod 함수가 그렇다.\n",
    " \n",
    " 여러 개의 숫자를 입력받아 평균과 분산을 반환하는 함수 mean_var 를 작성하라. 단, 입력되는 숫자의 개수는 변할 수 있고, 숫자가 0개이면 평균과 분산은 모두 0.0을 반환한다.\n",
    " "
   ]
  },
  {
   "cell_type": "code",
   "execution_count": 65,
   "metadata": {},
   "outputs": [
    {
     "name": "stdout",
     "output_type": "stream",
     "text": [
      "Help on built-in function divmod in module builtins:\n",
      "\n",
      "divmod(x, y, /)\n",
      "    Return the tuple (x//y, x%y).  Invariant: div*y + mod == x.\n",
      "\n"
     ]
    }
   ],
   "source": [
    "help(divmod)"
   ]
  },
  {
   "cell_type": "code",
   "execution_count": 70,
   "metadata": {},
   "outputs": [
    {
     "name": "stdout",
     "output_type": "stream",
     "text": [
      "1 3\n"
     ]
    }
   ],
   "source": [
    "def mean_var(x, y):\n",
    "    a = x // y\n",
    "    b = x % y\n",
    "    return a, b\n",
    "\n",
    "a, b = mean_var(10, 7)\n",
    "print(a, b)\n",
    "    "
   ]
  },
  {
   "cell_type": "code",
   "execution_count": 69,
   "metadata": {},
   "outputs": [
    {
     "data": {
      "text/plain": [
       "(1, 3)"
      ]
     },
     "execution_count": 69,
     "metadata": {},
     "output_type": "execute_result"
    }
   ],
   "source": [
    "a = 10\n",
    "b = 7\n",
    "divmod(a, b)"
   ]
  },
  {
   "cell_type": "markdown",
   "metadata": {},
   "source": [
    "#### 문제 7\n",
    "collections 모듈의 Counter 클래스는 Dict의 subclass로 hashable 객체의 개수를 세어서 반환한다.\n",
    "\n",
    "다음은 Counter class의 most_common 함수의 도움말이다.\n",
    "\n",
    "```\n",
    "most_common(self, n=None)\n",
    "    List the n most common elements and their counts from the most\n",
    "    common to the least.  If n is None, then list all element counts.\n",
    "    \n",
    "    >>> Counter('abracadabra').most_common(3)\n",
    "    [('a', 5), ('b', 2), ('r', 2)]\n",
    "```\n",
    "위 도움말과 아래 프로그램 예제를 참조해서 이와 같은 기능을 하는 most_common_char_count 함수를 작성하고 테스트하는 프로그램을 작성하라."
   ]
  },
  {
   "cell_type": "code",
   "execution_count": 71,
   "metadata": {},
   "outputs": [
    {
     "name": "stdout",
     "output_type": "stream",
     "text": [
      "Given string:  dajklvkdafjkd;ajfeqipjjfdas;fjkdsal;\n",
      "Counter({'j': 6, 'd': 5, 'a': 5, 'k': 4, 'f': 4, ';': 3, 'l': 2, 's': 2, 'v': 1, 'e': 1, 'q': 1, 'i': 1, 'p': 1})\n",
      "Most common four characters of the given string are as follows:\n",
      "[('j', 6), ('d', 5), ('a', 5), ('k', 4)]\n"
     ]
    }
   ],
   "source": [
    "from collections import Counter\n",
    "s = 'dajklvkdafjkd;ajfeqipjjfdas;fjkdsal;'\n",
    "print(\"Given string: \", s)\n",
    "print(Counter(s))\n",
    "print(\"Most common four characters of the given string are as follows:\")\n",
    "print(Counter(s).most_common(4))"
   ]
  },
  {
   "cell_type": "code",
   "execution_count": 98,
   "metadata": {
    "scrolled": false
   },
   "outputs": [
    {
     "name": "stdout",
     "output_type": "stream",
     "text": [
      "{'d': 5, 'a': 5, 'j': 6, 'k': 4, 'l': 2, 'v': 1, 'f': 4, ';': 3, 'e': 1, 'q': 1, 'i': 1, 'p': 1, 's': 2}\n",
      "[('d', 5), ('a', 5), ('j', 6), ('k', 4), ('f', 4), (';', 3)]\n"
     ]
    }
   ],
   "source": [
    "def most_common_char_count(s, n=None):\n",
    "    a = {}\n",
    "    b = []\n",
    "    temp = str()\n",
    "    for i in s:\n",
    "        if i not in temp:\n",
    "            temp += i\n",
    "            \n",
    "    for i in temp:\n",
    "        a[i] = 0\n",
    "            \n",
    "    for i in temp:\n",
    "        for j in s:\n",
    "            if i == j:\n",
    "                a[i] += 1\n",
    "                \n",
    "    for i in temp:\n",
    "        if a[i] >= n:\n",
    "            b += [(i, a[i])]\n",
    "    \n",
    "    return a, b\n",
    "    \n",
    "s = 'dajklvkdafjkd;ajfeqipjjfdas;fjkdsal;' \n",
    "a, b = most_common_char_count(s, 3)\n",
    "print(a)\n",
    "print(b)"
   ]
  },
  {
   "cell_type": "markdown",
   "metadata": {},
   "source": [
    "#### 문제 8.\n",
    "\n",
    "온라인 가입자가 입력한 password는 다음과 같은 조건을 만족해야 한다.\n",
    " - password는 영문 alphabet 대소문자, 숫자, !, @, #, ^, &, * 의 조합으로 이루어져야 한다.\n",
    " - password는 10 글자 이상 15 글자 이하이어야 한다.\n",
    " - password에 반드시 영문 alphabet 소문자 1 개 이상, 대문자 1 개 이상, 숫자 1 개 이상, !, @, #, ^, &, * 중에서 1 개이상이 포함되어야 한다.\n",
    " \n",
    "어떤 문자열이 이 password의 기준을 만족하는지 조사해서, 만족하면 True를 반환하고, 아니면 False를 반환하는 함수를 작성하고 아래의 test용 문자열을 이용해서 test하는 프로그램을 작성하라.\n",
    "\n",
    "Test용 문자열과 함수의 반환값은 다음과 같다.\n",
    "\n",
    " - \"a@ddfj1dfAdk\" : True\n",
    " - \"abcdefghijKlmn\": False\n",
    " - \"1A2a$123456\": False\n",
    " - \"abcd1A*\": False\n",
    "\n"
   ]
  },
  {
   "cell_type": "code",
   "execution_count": 120,
   "metadata": {},
   "outputs": [
    {
     "data": {
      "text/plain": [
       "False"
      ]
     },
     "execution_count": 120,
     "metadata": {},
     "output_type": "execute_result"
    }
   ],
   "source": [
    "def password(s):\n",
    "    count = 0\n",
    "    if len(s) > 15 or len(s) < 10:\n",
    "        count += 1\n",
    "    \n",
    "    a = b = c = d = 0\n",
    "    for i in s:\n",
    "        if i == '!' or i == '@' or i == '#' or i == '^' or i == '&' or i == '*':\n",
    "            a += 1\n",
    "        if ord(i) >= ord('A') and ord(i) < ord('Z'):\n",
    "            b += 1\n",
    "        if ord(i) >= ord('a') and ord(i) < ord('z'):\n",
    "            c += 1\n",
    "        if i >= '1' and i <= '9':\n",
    "            d += 1\n",
    "            \n",
    "        if a and b and c and d:\n",
    "            return True\n",
    "    else:\n",
    "        return False\n",
    "\n",
    "s = \"abcdefghijKlmn\"\n",
    "password(s)"
   ]
  },
  {
   "cell_type": "markdown",
   "metadata": {},
   "source": [
    "#### 예제 2. \n",
    "List와 Set의 데이터구조 차이로 인해서 원소 검색에 소요되는 시간이 다르다.\n",
    "\n",
    "아래의 세 셀을 실행하면 두 구조를 이용해서 데이터를 처리하는 속도 차이를 비교할 수 있다."
   ]
  },
  {
   "cell_type": "code",
   "execution_count": 6,
   "metadata": {},
   "outputs": [],
   "source": [
    "import random\n",
    "random.seed(0)\n",
    "N = 100\n",
    "lst = list(range(N+1))\n",
    "s = set(lst)"
   ]
  },
  {
   "cell_type": "code",
   "execution_count": 7,
   "metadata": {},
   "outputs": [
    {
     "name": "stdout",
     "output_type": "stream",
     "text": [
      "78.1 µs ± 3.46 µs per loop (mean ± std. dev. of 7 runs, 10000 loops each)\n"
     ]
    }
   ],
   "source": [
    "%%timeit\n",
    "\n",
    "for i_ in range(50):\n",
    "    n = random.randint(0, 2*N)\n",
    "    n in lst"
   ]
  },
  {
   "cell_type": "code",
   "execution_count": 8,
   "metadata": {},
   "outputs": [
    {
     "name": "stdout",
     "output_type": "stream",
     "text": [
      "41.2 µs ± 2.76 µs per loop (mean ± std. dev. of 7 runs, 10000 loops each)\n"
     ]
    }
   ],
   "source": [
    "%%timeit\n",
    "for i_ in range(50):\n",
    "    n = random.randint(0, 2*N)\n",
    "    n in s"
   ]
  },
  {
   "cell_type": "markdown",
   "metadata": {},
   "source": [
    "그러나 timeit 모듈을 사용해도 평균 사용시간을 구할 수 있다.\n",
    "\n",
    "timeit 모듈의 사용법은 [한글설명](https://docs.python.org/ko/3.8/library/timeit.html) 또는 [영문설명](https://docs.python.org/3.8/library/timeit.html)을 참조하라"
   ]
  },
  {
   "cell_type": "code",
   "execution_count": 138,
   "metadata": {},
   "outputs": [
    {
     "name": "stdout",
     "output_type": "stream",
     "text": [
      "0.0007842220000020461\n"
     ]
    }
   ],
   "source": [
    "from timeit import timeit\n",
    "import random\n",
    "\n",
    "N = 100\n",
    "lst = list(range(N+1))\n",
    "randoms = [random.randint(0, 2*N) for _ in range(N)]\n",
    "\n",
    "def search_in_an_iterable(lst, randoms, n):\n",
    "    for _ in range(n):\n",
    "        for e in randoms:\n",
    "            e in lst\n",
    "reps = 100\n",
    "\n",
    "my_code = \"\"\"\n",
    "search_in_an_iterable(lst, randoms, 10)\n",
    "\"\"\"\n",
    "\n",
    "avg_time = timeit(my_code,  globals=globals(), number=reps) / reps\n",
    "print(avg_time)"
   ]
  },
  {
   "cell_type": "markdown",
   "metadata": {},
   "source": [
    "#### 문제 9. \n",
    "\n",
    "위 프로그램에서 N = 100, 200, 300, ..., 1000 으로 바꿔가면서 다음 데이터를 구해서 pyplot의 bar 그래프로 표시하라.\n",
    "\n",
    "가로축을 N, 세로축을 소요시간으로 표시하라.\n",
    "list와 set 객체를 만드는 방법은 아래를 참조하라.\n",
    "\n",
    "```\n",
    "N = 100\n",
    "lst = list(range(N+1))\n",
    "s = set(list)\n",
    "randoms = [random.randint(0, 2*N) for _ in range(500)]\n",
    "```\n",
    "\n",
    "1) N의 변화에 따른 list에서 random 정수를 검색할 때 소요되는 시간의 그래프\n",
    "\n",
    "2) N의 변화에 따른 set에서 random 정수를 검색할 때 소요되는 시간의 그래프\n",
    "\n",
    "3) N의 변화에 따른 두 방법에서 소요되는 시간의 비율\n",
    "\n",
    "4) 위 결과에서 관찰된 현상에 대한 의견을 서술하라."
   ]
  },
  {
   "cell_type": "code",
   "execution_count": 2,
   "metadata": {
    "scrolled": true
   },
   "outputs": [
    {
     "data": {
      "image/png": "[encoded data removed]",
      "text/plain": [
       "<Figure size 432x288 with 1 Axes>"
      ]
     },
     "metadata": {
      "needs_background": "light"
     },
     "output_type": "display_data"
    }
   ],
   "source": [
    "from timeit import timeit\n",
    "import random\n",
    "import matplotlib.pyplot as plt\n",
    "plt.rcParams[\"font.family\"] = 'NanumGothic'\n",
    "plt.rcParams[\"font.size\"] = 10\n",
    "\n",
    "def search_in_an_iterable(lst, randoms, n):\n",
    "    for _ in range(n):\n",
    "        for e in randoms:\n",
    "            e in lst\n",
    "\n",
    "num = []\n",
    "avg_time = []\n",
    "for i in range(100, 1001, 100):\n",
    "    num.append(i)\n",
    "    \n",
    "for N in num:\n",
    "    lst = list(range(N+1))\n",
    "    randoms = [random.randint(0, 2*N) for _ in range(N)]\n",
    "    reps = N\n",
    "\n",
    "    my_code = \"search_in_an_iterable(lst, randoms, 10)\"\n",
    "    \n",
    "    temp = (timeit(my_code,  globals=globals(), number=reps) / reps)\n",
    "    avg_time.append(temp)\n",
    "\n",
    "plt.ylabel('list 소요 시간')\n",
    "plt.bar(num, avg_time, width = 50)\n",
    "    \n",
    "plt.show()"
   ]
  },
  {
   "cell_type": "code",
   "execution_count": 101,
   "metadata": {},
   "outputs": [
    {
     "data": {
      "image/png": "[encoded data removed]",
      "text/plain": [
       "<Figure size 432x288 with 1 Axes>"
      ]
     },
     "metadata": {
      "needs_background": "light"
     },
     "output_type": "display_data"
    }
   ],
   "source": [
    "avg_time2 = []\n",
    "for N in num:\n",
    "    s = set(range(N+1))\n",
    "    randoms = [random.randint(0, 2*N) for _ in range(N)]\n",
    "    reps = 100\n",
    "\n",
    "    my_code = \"search_in_an_iterable(s, randoms, 10)\"\n",
    "    \n",
    "    temp = (timeit(my_code,  globals=globals(), number=reps) / reps)\n",
    "    avg_time2.append(temp)\n",
    "\n",
    "plt.ylabel('set 소요 시간')\n",
    "plt.bar(num, avg_time2, width = 50)\n",
    "    \n",
    "plt.show()"
   ]
  },
  {
   "cell_type": "code",
   "execution_count": 102,
   "metadata": {},
   "outputs": [
    {
     "data": {
      "image/png": "[encoded data removed]",
      "text/plain": [
       "<Figure size 432x288 with 1 Axes>"
      ]
     },
     "metadata": {
      "needs_background": "light"
     },
     "output_type": "display_data"
    }
   ],
   "source": [
    "avg_time3 = []\n",
    "for i in range(10):\n",
    "    avg_time3.append(avg_time2[i] / avg_time[i])\n",
    "\n",
    "plt.ylabel('set/list 소요 시간 비율')\n",
    "plt.bar(num, avg_time3, width = 50)\n",
    "\n",
    "plt.show()"
   ]
  }
 ],
 "metadata": {
  "kernelspec": {
   "display_name": "Python 3",
   "language": "python",
   "name": "python3"
  },
  "language_info": {
   "codemirror_mode": {
    "name": "ipython",
    "version": 3
   },
   "file_extension": ".py",
   "mimetype": "text/x-python",
   "name": "python",
   "nbconvert_exporter": "python",
   "pygments_lexer": "ipython3",
   "version": "3.8.5"
  },
  "latex_envs": {
   "LaTeX_envs_menu_present": true,
   "autoclose": false,
   "autocomplete": true,
   "bibliofile": "biblio.bib",
   "cite_by": "apalike",
   "current_citInitial": 1,
   "eqLabelWithNumbers": true,
   "eqNumInitial": 1,
   "hotkeys": {
    "equation": "Ctrl-E",
    "itemize": "Ctrl-I"
   },
   "labels_anchors": false,
   "latex_user_defs": false,
   "report_style_numbering": false,
   "user_envs_cfg": false
  },
  "toc": {
   "base_numbering": 1,
   "nav_menu": {},
   "number_sections": false,
   "sideBar": true,
   "skip_h1_title": false,
   "title_cell": "Table of Contents",
   "title_sidebar": "Contents",
   "toc_cell": false,
   "toc_position": {
    "height": "calc(100% - 180px)",
    "left": "10px",
    "top": "150px",
    "width": "270.5px"
   },
   "toc_section_display": true,
   "toc_window_display": false
  }
 },
 "nbformat": 4,
 "nbformat_minor": 2
}
