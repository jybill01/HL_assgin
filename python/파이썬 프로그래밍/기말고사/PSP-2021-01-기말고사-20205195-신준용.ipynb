{
 "cells": [
  {
   "cell_type": "markdown",
   "metadata": {},
   "source": [
    "<h1 align='center'> 파이썬과학프로그래밍기초 기말고사</h1>\n",
    "\n",
    "<h3 align='center'> 담당교수 : 박섭형</h3>\n",
    "\n",
    "<p style=\"text-align: right\"> 2021.6.16 (수)</p>"
   ]
  },
  {
   "cell_type": "markdown",
   "metadata": {},
   "source": [
    "<div class=\"alert alert-block alert-info\">\n",
    "    \n",
    "- 파일 이름에서 00000000을 자신의 학번으로, name을 자신의 이름으로 수정하세요.\n",
    "\n",
    "- 다음 줄에 자신의 이름, 학번, 학과(전공)을 적으세요.\n",
    "\n",
    "* 이름:신준용   &nbsp;&nbsp;          학번:20205195    &nbsp;&nbsp;         학과(전공):소프트웨어융합대학(빅데이터)\n",
    "    \n",
    "</div>\n",
    "\n",
    "- 주의 사항\n",
    "  - 시험 시간: 오후 1:00 ~ 오후 2:20\n",
    "  - 시험 시간 동안에는 카메라를 켜고 있어야 함\n",
    "  - 오후 2:20에 줌을 종료하고 개인 동영상 녹화 시작\n",
    "     - 녹화할 때 Jupyter notebook 화면이 전체 화면에 나오고 설명하는 자신의 얼굴이 화면 모퉁이에 함께 녹화되어야 함\n",
    "     - 문제 하나당 설명 시간이 3분을 넘지 않도록 주의\n",
    "  - SmartLead에 파일 upolad 마감 시간: 오후 3:00\n",
    "  - Upload할 파일\n",
    "     - ipynb 파일\n",
    "     - 문제해설 녹화 동영상\n"
   ]
  },
  {
   "cell_type": "markdown",
   "metadata": {},
   "source": [
    "#### 채점 결과 \n",
    "\n",
    "- 학생들은 이곳에 아무 것도 기록하지 말기 바랍니다.\n",
    "\n",
    "| 문제 | 문제 1 | 문제 2 | 문제 3 | 문제 42 | 문제 5 | 문제 6 | 문제 7 | 문제 8 | 합계 |\n",
    "--|--|--|--|--|--|--|--|--|--\n",
    "만점 | 10 | 10 | 10 | 10 | 10 | 10 | 20 | 20 | 100\n",
    "득점 | | | | | | | |"
   ]
  },
  {
   "cell_type": "code",
   "execution_count": 168,
   "metadata": {},
   "outputs": [],
   "source": [
    "import numpy as np\n",
    "import pandas as pd\n",
    "import matplotlib.pyplot as plt"
   ]
  },
  {
   "cell_type": "markdown",
   "metadata": {},
   "source": [
    "\n",
    "### 문제 1.\n",
    "\n",
    "변수 arr과 a는 다음과 같다.\n",
    "\n",
    "```\n",
    "arr: array([ 1,  3,  5,  7,  9, 11, 13, 15, 17, 19])\n",
    "a:   array([ 1,  0,  5,  7,  0, 11, 13,  0, 17, 19])\n",
    "```\n",
    "변수 arr과 a를 만드는 문장을 작성하라. 단, 원소를 직접 적으면 안된다.\n"
   ]
  },
  {
   "cell_type": "code",
   "execution_count": 169,
   "metadata": {
    "scrolled": true
   },
   "outputs": [
    {
     "data": {
      "text/plain": [
       "array([ 1,  3,  5,  7,  9, 11, 13, 15, 17, 19])"
      ]
     },
     "execution_count": 169,
     "metadata": {},
     "output_type": "execute_result"
    }
   ],
   "source": [
    "arr = np.arange(1, 20, 2)\n",
    "arr"
   ]
  },
  {
   "cell_type": "code",
   "execution_count": 170,
   "metadata": {
    "scrolled": false
   },
   "outputs": [
    {
     "data": {
      "text/plain": [
       "array([ 1,  0,  5,  7,  0, 11, 13,  0, 17, 19])"
      ]
     },
     "execution_count": 170,
     "metadata": {},
     "output_type": "execute_result"
    }
   ],
   "source": [
    "a = arr\n",
    "a[a % 3 == 0] = np.array([0])\n",
    "a"
   ]
  },
  {
   "cell_type": "markdown",
   "metadata": {},
   "source": [
    "\n",
    "### 문제 2.\n",
    "\n",
    "아래 cell에서 변수 arr에 있는 정수 $n$ 중에서 $3 \\le n \\le 7$의 조건을 만족하는 숫자들을 원소로 갖는 ndarray a를 만들어라.\n",
    "\n",
    "```\n",
    "arr: array([10,  5,  1,  2, 10,  1,  2,  9, 10,  1,  9,  7,  5,  4,  1,  5,  7, 9,  2,  9])\n",
    "a: array([5, 7, 5, 4, 5, 7])\n",
    "```\n",
    "\n"
   ]
  },
  {
   "cell_type": "code",
   "execution_count": 171,
   "metadata": {},
   "outputs": [
    {
     "data": {
      "text/plain": [
       "array([10,  5,  1,  2, 10,  1,  2,  9, 10,  1,  9,  7,  5,  4,  1,  5,  7,\n",
       "        9,  2,  9])"
      ]
     },
     "execution_count": 171,
     "metadata": {},
     "output_type": "execute_result"
    }
   ],
   "source": [
    "np.random.seed(10)\n",
    "arr = np.random.randint(1, 11, 20)\n",
    "arr"
   ]
  },
  {
   "cell_type": "code",
   "execution_count": 172,
   "metadata": {},
   "outputs": [
    {
     "data": {
      "text/plain": [
       "array([5, 7, 5, 4, 5, 7])"
      ]
     },
     "execution_count": 172,
     "metadata": {},
     "output_type": "execute_result"
    }
   ],
   "source": [
    "a = arr[(3 <= arr) & (arr <= 7)]\n",
    "a"
   ]
  },
  {
   "cell_type": "markdown",
   "metadata": {},
   "source": [
    "### 문제 3.\n",
    "\n",
    "다음 numpy ndarra arr를 만들어라.\n",
    "\n",
    "```\n",
    "arr: \n",
    "array([[ 1,  3,  5,  7],\n",
    "       [ 3,  9, 15, 21],\n",
    "       [ 5, 15, 25, 35],\n",
    "       [ 7, 21, 35, 49]])\n",
    "```\n",
    "\n"
   ]
  },
  {
   "cell_type": "code",
   "execution_count": 193,
   "metadata": {},
   "outputs": [
    {
     "data": {
      "text/plain": [
       "array([[ 1,  3,  5,  7],\n",
       "       [ 3,  9, 15, 21],\n",
       "       [ 5, 15, 25, 35],\n",
       "       [ 7, 21, 35, 49]])"
      ]
     },
     "execution_count": 193,
     "metadata": {},
     "output_type": "execute_result"
    }
   ],
   "source": [
    "x = np.arange(1, 8, 2).reshape(-1,1)\n",
    "y = np.arange(1, 8, 2).reshape(1,-1)\n",
    "arr = x * y\n",
    "arr"
   ]
  },
  {
   "cell_type": "markdown",
   "metadata": {},
   "source": [
    "### 문제 4.\n",
    "\n",
    "다음 numpy ndarra arr은 다음과 같다..\n",
    "\n",
    "```\n",
    "arr:\n",
    "array([[ 1,  2,  3,  4],\n",
    "       [ 5,  6,  7,  8],\n",
    "       [ 9, 10, 11, 12],\n",
    "       [13, 14, 15, 16]])\n",
    "```\n",
    "이 arr로부터 다음 a를 만들어라.\n",
    "```\n",
    "a:\n",
    "array([[ 1,  4,  3,  2],\n",
    "       [ 5,  8,  7,  6],\n",
    "       [ 9, 12, 11, 10],\n",
    "       [13, 16, 15, 14]])\n",
    "```"
   ]
  },
  {
   "cell_type": "code",
   "execution_count": 72,
   "metadata": {
    "scrolled": true
   },
   "outputs": [
    {
     "data": {
      "text/plain": [
       "array([[ 1,  4,  3,  2],\n",
       "       [ 5,  8,  7,  6],\n",
       "       [ 9, 12, 11, 10],\n",
       "       [13, 16, 15, 14]])"
      ]
     },
     "execution_count": 72,
     "metadata": {},
     "output_type": "execute_result"
    }
   ],
   "source": [
    "arr = np.arange(1, 17).reshape(4, 4)\n",
    "a = arr\n",
    "a[:,[3,1]] = a[:,[1,3]]\n",
    "a"
   ]
  },
  {
   "cell_type": "markdown",
   "metadata": {},
   "source": [
    "### 문제 5.\n",
    "\n",
    "아래 두 줄을 실행하면,  Pandas DataFrame 객체인 iris.data와 Pandas Series인 iris.target을 얻을 수 있다.\n",
    "\n",
    "```\n",
    "from sklearn import datasets\n",
    "iris = datasets.load_iris(as_frame=True)\n",
    "```\n",
    "이 두 객체를 합친 새로운 Pandas DataFrame 객체인 new_iris를 만들어라.\n",
    "```\n",
    "new_iris:\n",
    "\tsepal length (cm)\tsepal width (cm)\tpetal length (cm)\tpetal width (cm)\ttarget\n",
    "0\t5.1\t3.5\t1.4\t0.2\t0\n",
    "1\t4.9\t3.0\t1.4\t0.2\t0\n",
    "2\t4.7\t3.2\t1.3\t0.2\t0\n",
    "3\t4.6\t3.1\t1.5\t0.2\t0\n",
    "4\t5.0\t3.6\t1.4\t0.2\t0\n",
    "...\t...\t...\t...\t...\t...\n",
    "145\t6.7\t3.0\t5.2\t2.3\t2\n",
    "146\t6.3\t2.5\t5.0\t1.9\t2\n",
    "147\t6.5\t3.0\t5.2\t2.0\t2\n",
    "148\t6.2\t3.4\t5.4\t2.3\t2\n",
    "149\t5.9\t3.0\t5.1\t1.8\t2\n",
    "150 rows × 5 columns\n",
    "```"
   ]
  },
  {
   "cell_type": "code",
   "execution_count": 179,
   "metadata": {},
   "outputs": [],
   "source": [
    "from sklearn import datasets\n",
    "iris = datasets.load_iris(as_frame=True)"
   ]
  },
  {
   "cell_type": "code",
   "execution_count": 180,
   "metadata": {
    "scrolled": true
   },
   "outputs": [],
   "source": [
    "iris_d = iris.data\n",
    "iris_t = iris.target\n",
    "iris_d = iris_d.append(iris_t.to_frame(name='target'), ignore_index=True)"
   ]
  },
  {
   "cell_type": "code",
   "execution_count": 191,
   "metadata": {
    "scrolled": true
   },
   "outputs": [
    {
     "data": {
      "text/html": [
       "<div>\n",
       "<style scoped>\n",
       "    .dataframe tbody tr th:only-of-type {\n",
       "        vertical-align: middle;\n",
       "    }\n",
       "\n",
       "    .dataframe tbody tr th {\n",
       "        vertical-align: top;\n",
       "    }\n",
       "\n",
       "    .dataframe thead th {\n",
       "        text-align: right;\n",
       "    }\n",
       "</style>\n",
       "<table border=\"1\" class=\"dataframe\">\n",
       "  <thead>\n",
       "    <tr style=\"text-align: right;\">\n",
       "      <th></th>\n",
       "      <th>sepal length (cm)</th>\n",
       "      <th>sepal width (cm)</th>\n",
       "      <th>petal length (cm)</th>\n",
       "      <th>petal width (cm)</th>\n",
       "      <th>target</th>\n",
       "    </tr>\n",
       "  </thead>\n",
       "  <tbody>\n",
       "    <tr>\n",
       "      <th>0</th>\n",
       "      <td>5.1</td>\n",
       "      <td>3.5</td>\n",
       "      <td>1.4</td>\n",
       "      <td>0.2</td>\n",
       "      <td>NaN</td>\n",
       "    </tr>\n",
       "    <tr>\n",
       "      <th>1</th>\n",
       "      <td>4.9</td>\n",
       "      <td>3.0</td>\n",
       "      <td>1.4</td>\n",
       "      <td>0.2</td>\n",
       "      <td>NaN</td>\n",
       "    </tr>\n",
       "    <tr>\n",
       "      <th>2</th>\n",
       "      <td>4.7</td>\n",
       "      <td>3.2</td>\n",
       "      <td>1.3</td>\n",
       "      <td>0.2</td>\n",
       "      <td>NaN</td>\n",
       "    </tr>\n",
       "    <tr>\n",
       "      <th>3</th>\n",
       "      <td>4.6</td>\n",
       "      <td>3.1</td>\n",
       "      <td>1.5</td>\n",
       "      <td>0.2</td>\n",
       "      <td>NaN</td>\n",
       "    </tr>\n",
       "    <tr>\n",
       "      <th>4</th>\n",
       "      <td>5.0</td>\n",
       "      <td>3.6</td>\n",
       "      <td>1.4</td>\n",
       "      <td>0.2</td>\n",
       "      <td>NaN</td>\n",
       "    </tr>\n",
       "    <tr>\n",
       "      <th>...</th>\n",
       "      <td>...</td>\n",
       "      <td>...</td>\n",
       "      <td>...</td>\n",
       "      <td>...</td>\n",
       "      <td>...</td>\n",
       "    </tr>\n",
       "    <tr>\n",
       "      <th>295</th>\n",
       "      <td>NaN</td>\n",
       "      <td>NaN</td>\n",
       "      <td>NaN</td>\n",
       "      <td>NaN</td>\n",
       "      <td>2.0</td>\n",
       "    </tr>\n",
       "    <tr>\n",
       "      <th>296</th>\n",
       "      <td>NaN</td>\n",
       "      <td>NaN</td>\n",
       "      <td>NaN</td>\n",
       "      <td>NaN</td>\n",
       "      <td>2.0</td>\n",
       "    </tr>\n",
       "    <tr>\n",
       "      <th>297</th>\n",
       "      <td>NaN</td>\n",
       "      <td>NaN</td>\n",
       "      <td>NaN</td>\n",
       "      <td>NaN</td>\n",
       "      <td>2.0</td>\n",
       "    </tr>\n",
       "    <tr>\n",
       "      <th>298</th>\n",
       "      <td>NaN</td>\n",
       "      <td>NaN</td>\n",
       "      <td>NaN</td>\n",
       "      <td>NaN</td>\n",
       "      <td>2.0</td>\n",
       "    </tr>\n",
       "    <tr>\n",
       "      <th>299</th>\n",
       "      <td>NaN</td>\n",
       "      <td>NaN</td>\n",
       "      <td>NaN</td>\n",
       "      <td>NaN</td>\n",
       "      <td>2.0</td>\n",
       "    </tr>\n",
       "  </tbody>\n",
       "</table>\n",
       "<p>300 rows × 5 columns</p>\n",
       "</div>"
      ],
      "text/plain": [
       "     sepal length (cm)  sepal width (cm)  petal length (cm)  petal width (cm)  \\\n",
       "0                  5.1               3.5                1.4               0.2   \n",
       "1                  4.9               3.0                1.4               0.2   \n",
       "2                  4.7               3.2                1.3               0.2   \n",
       "3                  4.6               3.1                1.5               0.2   \n",
       "4                  5.0               3.6                1.4               0.2   \n",
       "..                 ...               ...                ...               ...   \n",
       "295                NaN               NaN                NaN               NaN   \n",
       "296                NaN               NaN                NaN               NaN   \n",
       "297                NaN               NaN                NaN               NaN   \n",
       "298                NaN               NaN                NaN               NaN   \n",
       "299                NaN               NaN                NaN               NaN   \n",
       "\n",
       "     target  \n",
       "0       NaN  \n",
       "1       NaN  \n",
       "2       NaN  \n",
       "3       NaN  \n",
       "4       NaN  \n",
       "..      ...  \n",
       "295     2.0  \n",
       "296     2.0  \n",
       "297     2.0  \n",
       "298     2.0  \n",
       "299     2.0  \n",
       "\n",
       "[300 rows x 5 columns]"
      ]
     },
     "execution_count": 191,
     "metadata": {},
     "output_type": "execute_result"
    }
   ],
   "source": [
    "iris_d"
   ]
  },
  {
   "cell_type": "code",
   "execution_count": null,
   "metadata": {
    "scrolled": false
   },
   "outputs": [],
   "source": [
    "\n"
   ]
  },
  {
   "cell_type": "markdown",
   "metadata": {},
   "source": [
    "### 문제 6.\n",
    "\n",
    "문제 5에서 target이 0인 iris들의 꽃잎 길이(sepal length)의 평균과 표준편차를 구하라."
   ]
  },
  {
   "cell_type": "code",
   "execution_count": null,
   "metadata": {
    "scrolled": true
   },
   "outputs": [],
   "source": []
  },
  {
   "cell_type": "code",
   "execution_count": null,
   "metadata": {},
   "outputs": [],
   "source": []
  },
  {
   "cell_type": "markdown",
   "metadata": {},
   "source": [
    "### 문제 7.\n",
    "\n",
    "다음은 현재 디렉토리에 있는 영상 파일 \"nature-3082832_640.jpg\"을 읽어서 numpy ndarray로 만드는 문장들이다.\n",
    "```\n",
    "import imageio\n",
    "file_name = \"nature-3082832_640.jpg\"\n",
    "img = imageio.imread(file_name)\n",
    "```\n",
    "\n",
    "img로부터 아래 영상을 만들어서 화면에 표시하라.\n",
    "\n",
    "<img src='nature-3082832_640_cut.jpg' />"
   ]
  },
  {
   "cell_type": "code",
   "execution_count": 112,
   "metadata": {},
   "outputs": [],
   "source": [
    "import imageio\n",
    "file_name = \"nature-3082832_640.jpg\"\n",
    "img = imageio.imread(file_name)"
   ]
  },
  {
   "cell_type": "code",
   "execution_count": 113,
   "metadata": {
    "scrolled": true
   },
   "outputs": [],
   "source": [
    "img.shape\n",
    "cr = np.array([180, 320])\n",
    "r = 180\n",
    "\n",
    "idx_x = np.arange(359).reshape(-1,1)\n",
    "idx_y = np.arange(640).reshape(1,-1)\n",
    "img[(idx_x-cr[0])**2 + (idx_y-cr[1])**2 > r**2] = np.array([0, 0, 0])"
   ]
  },
  {
   "cell_type": "code",
   "execution_count": 114,
   "metadata": {
    "scrolled": false
   },
   "outputs": [
    {
     "data": {
      "image/png": "[encoded data removed]",
      "text/plain": [
       "<Figure size 432x288 with 1 Axes>"
      ]
     },
     "metadata": {
      "needs_background": "light"
     },
     "output_type": "display_data"
    }
   ],
   "source": [
    "plt.imshow(img)\n",
    "plt.show()"
   ]
  },
  {
   "cell_type": "code",
   "execution_count": null,
   "metadata": {},
   "outputs": [],
   "source": []
  },
  {
   "cell_type": "code",
   "execution_count": 164,
   "metadata": {},
   "outputs": [],
   "source": [
    "plt.rcParams['font.family'] = ''"
   ]
  },
  {
   "cell_type": "markdown",
   "metadata": {},
   "source": [
    "\n",
    "### 문제 8.\n",
    "\n",
    "'temperature_anomalies.csv' 파일은 1880년부터 2021년까지 매년 5월의 지구 평균 온도를 측정하고, 이 온도에서 1910년부터 2000년까지의 평균 온도와의 차이를 나타난 데이터이다. (출처: https://www.ncdc.noaa.gov/cag/global/time-series/globe/land_ocean/1/5/1880-2021)\n",
    "\n",
    "이 파일을 읽고, 다음 그래프와 최대한 닯은 그래프를 그려라.\n",
    "\n",
    "단, matplot.pyplot 라이브러리를 사용하고, 그림의 크기는 가로 10 인치, 세로 4 인치로 하고, \n",
    "Value가 음수인 해의 그래프는 파란색으로, Value가 0 이상인 해의 그래프는 빨간색으로 표시하라.\n",
    "<img src='global_temp_anomalies.png' />\n"
   ]
  },
  {
   "cell_type": "code",
   "execution_count": 166,
   "metadata": {
    "scrolled": true
   },
   "outputs": [
    {
     "data": {
      "image/png": "[encoded data removed]",
      "text/plain": [
       "<Figure size 720x288 with 1 Axes>"
      ]
     },
     "metadata": {
      "needs_background": "light"
     },
     "output_type": "display_data"
    }
   ],
   "source": [
    "a = pd.read_csv('temperature_anomalies.csv')\n",
    "plt.figure(figsize = (10, 4))\n",
    "plt.bar(a['Year'].values, a['Value'].values)\n",
    "plt.xlabel(\"year\")\n",
    "plt.ylabel(\"temperature in Celsius\")\n",
    "plt.title(\"Global May Temperature Anomalies\")\n",
    "plt.xticks(range(1880, 2021, 10))\n",
    "plt.show()"
   ]
  },
  {
   "cell_type": "code",
   "execution_count": null,
   "metadata": {},
   "outputs": [],
   "source": []
  }
 ],
 "metadata": {
  "kernelspec": {
   "display_name": "Python 3",
   "language": "python",
   "name": "python3"
  },
  "language_info": {
   "codemirror_mode": {
    "name": "ipython",
    "version": 3
   },
   "file_extension": ".py",
   "mimetype": "text/x-python",
   "name": "python",
   "nbconvert_exporter": "python",
   "pygments_lexer": "ipython3",
   "version": "3.8.5"
  },
  "latex_envs": {
   "LaTeX_envs_menu_present": true,
   "autoclose": false,
   "autocomplete": true,
   "bibliofile": "biblio.bib",
   "cite_by": "apalike",
   "current_citInitial": 1,
   "eqLabelWithNumbers": true,
   "eqNumInitial": 1,
   "hotkeys": {
    "equation": "Ctrl-E",
    "itemize": "Ctrl-I"
   },
   "labels_anchors": false,
   "latex_user_defs": false,
   "report_style_numbering": false,
   "user_envs_cfg": false
  },
  "toc": {
   "base_numbering": 1,
   "nav_menu": {},
   "number_sections": false,
   "sideBar": true,
   "skip_h1_title": false,
   "title_cell": "Table of Contents",
   "title_sidebar": "Contents",
   "toc_cell": false,
   "toc_position": {
    "height": "calc(100% - 180px)",
    "left": "10px",
    "top": "150px",
    "width": "270.5px"
   },
   "toc_section_display": true,
   "toc_window_display": false
  }
 },
 "nbformat": 4,
 "nbformat_minor": 2
}
