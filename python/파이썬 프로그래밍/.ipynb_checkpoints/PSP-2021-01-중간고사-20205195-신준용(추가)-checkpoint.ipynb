{
 "cells": [
  {
   "cell_type": "markdown",
   "metadata": {},
   "source": [
    "<h1 align='center'> 파이썬과학프로그래밍기초 중간고사</h1>\n",
    "\n",
    "<h3 align='center'> 담당교수 : 박섭형</h3>\n",
    "\n",
    "<p style=\"text-align: right\"> 2021.4.21</p>"
   ]
  },
  {
   "cell_type": "markdown",
   "metadata": {},
   "source": [
    "<div class=\"alert alert-block alert-info\">\n",
    "    \n",
    "- 파일 이름에서 00000000을 자신의 학번으로, name을 자신의 이름으로 수정하세요.\n",
    "\n",
    "- 다음 줄에 자신의 이름, 학번, 학과(전공)을 적으세요.\n",
    "\n",
    "* 이름:신준용   &nbsp;&nbsp;          학번:20205195    &nbsp;&nbsp;         학과(전공):소프트웨어융합대학(빅데이터)\n",
    "    \n",
    "</div>\n",
    "\n",
    "- 주의 사항\n",
    "  - 시험 시간: 오후 1:00 ~ 오후 2:20\n",
    "  - 시험 시간 동안에는 카메라를 켜고 있어야 함\n",
    "  - 오후 2:20에 줌을 종료하고 개인 동영상 녹화 시작\n",
    "     - 녹화할 때 Jupyter notebook 화면이 전체 화면에 나오고 설명하는 자신의 얼굴이 화면 모퉁이에 함께 녹화되어야 함\n",
    "     - 문제 하나당 설명 시간이 3분을 넘지 않도록 주의\n",
    "  - SmartLead에 파일 upolad 마감 시간: 오후 2:50\n",
    "  - Upload할 파일\n",
    "     - ipynb 파일\n",
    "     - 문제해설 녹화 동영상\n"
   ]
  },
  {
   "cell_type": "markdown",
   "metadata": {},
   "source": [
    "#### 채점 결과 \n",
    "\n",
    "- 학생들은 이곳에 아무 것도 기록하지 말기 바랍니다.\n",
    "\n",
    "| 문제 | 문제 1 | 문제 2 | 문제 3-1 | 문제 3-2 | 문제 3-3 | 문제 4 | 합계 |\n",
    "--|--|--|--|--|--|--|--\n",
    "만점 | 25 | 25 | 5 | 10 | 10 | 25 | 100\n",
    "득점 | | | | | |"
   ]
  },
  {
   "cell_type": "markdown",
   "metadata": {},
   "source": [
    "### 문제 3.\n",
    "\n",
    "$[a, b]$에서 적분가능한 함수 $f(x)$의 적분 근사값을 다음과 같이 정의하자.\n",
    "\n",
    "$$\\displaystyle \\int_a^b f(x) \\; dx \\approx  \\sum_{k=0}^{n-1} f(x_k) \\Delta,$$\n",
    "여기에서 $\\Delta = \\frac{b-a}{n}$ and $x_k = a + \\Delta k $.\n",
    "\n",
    "\n"
   ]
  },
  {
   "cell_type": "markdown",
   "metadata": {},
   "source": [
    "#### 문제 3-1\n",
    "\n",
    "이 적분의 근사식을 반환하는 함수 approximate_integrate(f, a, b, /, n=100) 를 완성하라. 단, 함수 내부에 for loop을 사용하여야 한다.\n",
    "\n",
    "여기에서 f는 적분할 함수이고, a, b, n은 위의 설명과 같다."
   ]
  },
  {
   "cell_type": "code",
   "execution_count": 1,
   "metadata": {},
   "outputs": [],
   "source": [
    "def approximate_integrate(f, a, b, /, n=100):\n",
    "    s = 0 #시그마로 다 더할 값이기 떄문에 0으로 초기화\n",
    "    d = (b - a) / n #위에 적혀있는 delta식\n",
    "    for k in range(n): #k = 0부터 n - 1까지 반복\n",
    "        s += f(d * k) #f(xk)를 계속 더함\n",
    "    i = s * d #시그마f(xk)와 delta를 곱한 값\n",
    "    return i #반환\n",
    "\n",
    "import math"
   ]
  },
  {
   "cell_type": "markdown",
   "metadata": {},
   "source": [
    "#### 문제 3-2\n",
    "\n",
    "문제 3-1에서 만든 함수 내부에서 reduce 함수를 사용하여 approximate_integrate_reduce(f, a, b, /, n=100) 를 완성하라.\n"
   ]
  },
  {
   "cell_type": "code",
   "execution_count": 2,
   "metadata": {},
   "outputs": [],
   "source": [
    "def approximate_integrate_reduce(f, a, b, /, n=100):\n",
    "    d = (b - a) / n #위의 delta 식\n",
    "    fkd = [f(d*k) for k in range(n)] #f(xk)의 값을 모두 fkd배열에 저장\n",
    "    t = reduce(lambda a,b:a+b, fkd)#fkd배열을 모두 더하여 total에 저장\n",
    "    return t * d #시그마f(xk)값인 total과 delta를 곱하여 반환\n",
    "\n",
    "import math\n",
    "from functools import reduce"
   ]
  },
  {
   "cell_type": "markdown",
   "metadata": {},
   "source": [
    "#### 문제 3-3\n",
    "\n",
    "문제 3-1 또는 3-2에서 만든 함수를 이용해서 다음 적분의 근사값을 구하려고 한다.\n",
    "\n",
    "$$\\displaystyle \\int_0^{\\pi/2} \\sin(x) \\; dx = 1,$$\n",
    "\n",
    "단, $n = 10, 20, 30, 40, 50, 60, 70, 80, 90, 100$일 때 적분의 근사값을 구하고 1에서 이 근사값을 뺀 오차를 아래 그래프처럼 그리는 프로그램을 완성하라.\n",
    "\n",
    "예를 들어서, $n = 10, 20, 30, 40, 50, 60, 70, 80, 90, 100$일 때 적분의 근사값과 오차(1-근사값)은 다음과 같이 구해진다.\n",
    "\n",
    "```\n",
    "n=10: 근사값 = 0.9194031700146124, 오차 = 0.08059682998538764\n",
    "n=20: 근사값 = 0.9602159970786605, 오차 = 0.039784002921339545\n",
    "n=30: 근사값 = 0.9735915877154891, 오차 = 0.02640841228451085\n",
    "n=40: 근사값 = 0.9802365321379816, 오차 = 0.019763467862018436\n",
    "n=50: 근사값 = 0.9842097886757729, 오차 = 0.015790211324227088\n",
    "n=60: 근사값 = 0.9868529141913794, 오차 = 0.013147085808620562\n",
    "n=70: 근사값 = 0.9887380632812566, 오차 = 0.011261936718743426\n",
    "n=80: 근사값 = 0.9901503951326001, 오차 = 0.009849604867399941\n",
    "n=90: 근사값 = 0.9912479688261675, 오차 = 0.008752031173832497\n",
    "n=100: 근사값 = 0.9921254566056331, 오차 = 0.007874543394366884\n",
    "```\n",
    "\n",
    "<img src='approximation_error.png' width='60%'></img>"
   ]
  },
  {
   "cell_type": "code",
   "execution_count": 3,
   "metadata": {},
   "outputs": [
    {
     "data": {
      "text/latex": [
       "$\\displaystyle 1$"
      ],
      "text/plain": [
       "1"
      ]
     },
     "execution_count": 3,
     "metadata": {},
     "output_type": "execute_result"
    }
   ],
   "source": [
    "import sympy as sym #sympy 선언\n",
    "\n",
    "x = sym.Symbol('x') #x심볼 생성\n",
    "\n",
    "sym.integrate(sym.sin(x), (x, 0, sym.pi/2)) #0부터 파이/2 까지 적분한 값"
   ]
  },
  {
   "cell_type": "code",
   "execution_count": 4,
   "metadata": {},
   "outputs": [
    {
     "data": {
      "image/png": "[encoded data removed]",
      "text/plain": [
       "<Figure size 432x288 with 1 Axes>"
      ]
     },
     "metadata": {
      "needs_background": "light"
     },
     "output_type": "display_data"
    }
   ],
   "source": [
    "import matplotlib.pyplot as plt\n",
    "\n",
    "i = [] #오차율을 저장할 배열 선언\n",
    "for n in range(10, 110, 10): #10부터 100까지 10식 증가하는 반복문\n",
    "    i.append(1 - approximate_integrate_reduce(math.sin, 0, math.pi/2, n))\n",
    "    '''\n",
    "    approximate_integrate_reduce함수에 10부터 100까지 10씩 증가하는 n의 0부터 파이/2까지의 근사값을 구하고 1에서 \n",
    "    뺸 값을 integrals배열에 차례대로 저장\n",
    "    '''    \n",
    "\n",
    "plt.bar(range(10, 110, 10), i, width=5) #[10, 20, 30 ... , 100]과 근사값이 저장된 i배열을 넓이 5짜리 막대그래프로 만듦\n",
    "plt.xticks(range(10, 110, 10)) #x축 값을 [10, 20, 30 ... , 100]로 지정\n",
    "plt.xlabel(\"$n$\") #x축 이름을 n으로 설정\n",
    "plt.ylabel(\"Approximation error\") #y축 이름을 Approximation error로 설정\n",
    "plt.savefig('approximation_error.png') #approximation_error.png이름으로 이미지 저장 \n",
    "plt.show() #그래프 출력"
   ]
  }
 ],
 "metadata": {
  "kernelspec": {
   "display_name": "Python 3",
   "language": "python",
   "name": "python3"
  },
  "language_info": {
   "codemirror_mode": {
    "name": "ipython",
    "version": 3
   },
   "file_extension": ".py",
   "mimetype": "text/x-python",
   "name": "python",
   "nbconvert_exporter": "python",
   "pygments_lexer": "ipython3",
   "version": "3.8.5"
  },
  "latex_envs": {
   "LaTeX_envs_menu_present": true,
   "autoclose": false,
   "autocomplete": true,
   "bibliofile": "biblio.bib",
   "cite_by": "apalike",
   "current_citInitial": 1,
   "eqLabelWithNumbers": true,
   "eqNumInitial": 1,
   "hotkeys": {
    "equation": "Ctrl-E",
    "itemize": "Ctrl-I"
   },
   "labels_anchors": false,
   "latex_user_defs": false,
   "report_style_numbering": false,
   "user_envs_cfg": false
  },
  "toc": {
   "base_numbering": 1,
   "nav_menu": {},
   "number_sections": false,
   "sideBar": true,
   "skip_h1_title": false,
   "title_cell": "Table of Contents",
   "title_sidebar": "Contents",
   "toc_cell": false,
   "toc_position": {
    "height": "calc(100% - 180px)",
    "left": "10px",
    "top": "150px",
    "width": "270.5px"
   },
   "toc_section_display": true,
   "toc_window_display": false
  }
 },
 "nbformat": 4,
 "nbformat_minor": 2
}
