{
 "cells": [
  {
   "cell_type": "markdown",
   "metadata": {},
   "source": [
    "<h1 align='center'> 파이썬과학프로그래밍기초 중간고사</h1>\n",
    "\n",
    "<h3 align='center'> 담당교수 : 박섭형</h3>\n",
    "\n",
    "<p style=\"text-align: right\"> 2021.4.21</p>"
   ]
  },
  {
   "cell_type": "markdown",
   "metadata": {},
   "source": [
    "<div class=\"alert alert-block alert-info\">\n",
    "    \n",
    "- 파일 이름에서 00000000을 자신의 학번으로, name을 자신의 이름으로 수정하세요.\n",
    "\n",
    "- 다음 줄에 자신의 이름, 학번, 학과(전공)을 적으세요.\n",
    "\n",
    "* 이름:   &nbsp;&nbsp;          학번:    &nbsp;&nbsp;         학과(전공):\n",
    "    \n",
    "</div>\n",
    "\n",
    "- 주의 사항\n",
    "  - 시험 시간: 오후 1:00 ~ 오후 2:20\n",
    "  - 시험 시간 동안에는 카메라를 켜고 있어야 함\n",
    "  - 오후 2:20에 줌을 종료하고 개인 동영상 녹화 시작\n",
    "     - 녹화할 때 Jupyter notebook 화면이 전체 화면에 나오고 설명하는 자신의 얼굴이 화면 모퉁이에 함께 녹화되어야 함\n",
    "     - 문제 하나당 설명 시간이 3분을 넘지 않도록 주의\n",
    "  - SmartLead에 파일 upolad 마감 시간: 오후 2:50\n",
    "  - Upload할 파일\n",
    "     - ipynb 파일\n",
    "     - 문제해설 녹화 동영상\n"
   ]
  },
  {
   "cell_type": "markdown",
   "metadata": {},
   "source": [
    "#### 채점 결과 \n",
    "\n",
    "- 학생들은 이곳에 아무 것도 기록하지 말기 바랍니다.\n",
    "\n",
    "| 문제 | 문제 1 | 문제 2 | 문제 3-1 | 문제 3-2 | 문제 3-3 | 문제 4 | 합계 |\n",
    "--|--|--|--|--|--|--|--\n",
    "만점 | 25 | 25 | 5 | 10 | 10 | 25 | 100\n",
    "득점 | | | | | |"
   ]
  },
  {
   "cell_type": "markdown",
   "metadata": {},
   "source": [
    "\n",
    "### 문제 1.\n",
    "\n",
    "다음 함수는 dictionary d에 있는 value 중에서 중복되지 않고 한 번만 나타나는 값을 가진 keys를 리스트로 반환하는 함수이다. \n",
    "\n",
    "단, 입력되는 dictionary의 key는 모두 ASCII 문자이고, value는 모두 정수라고 가정한다.\n",
    "\n",
    "반환되는 리스트 안의 keys는 ASCII 값이 작은 문자부터 큰 문자 순으로 정렬되어야 한다.\n",
    "\n",
    "'A' < 'B' < ... < 'Z' < 'a' < 'b' < ... 'z'\n",
    "\n",
    "고유한 값이 없는 경우에는 빈 리스트를 반환해야 한다.\n",
    "\n",
    "이 함수를 완성하라. \n",
    "\n",
    "\n",
    "\n",
    "```\n",
    "def get_keys_of_unique_values(d):\n",
    "\n",
    "```\n",
    "\n",
    "다음은 dictionary와 반환값의 예이다.\n",
    "```\n",
    "입력:   {'i': 2, 'k': 5, 'D': 9, 'O': 1, 'L': 10, 'E': 2, 'p': 10}\n",
    "반환값: ['D', 'O', 'k']\n",
    "\n",
    "입력:   {'B': 8, 'O': 4, 'o': 2, 'u': 5, 'f': 6, 'M': 7, 'k': 10, 'Q': 8, 'L': 1, 'F': 5}\n",
    "반환값: ['L', 'M', 'O', 'f', 'k', 'o']\n",
    "\n",
    "입력:   {'N': 1, 't': 10, 'G': 10, 'X': 10, 'e': 3, 'j': 5, 'f': 6, 'E': 9, 'v': 4, 'I': 2}\n",
    "반환값: ['E', 'I', 'N', 'e', 'f', 'j', 'v']\n",
    "\n",
    "입력:   {'K': 6, 'w': 1, 'U': 10, 'W': 1, 'R': 3, 'v': 3, 'n': 9, 'T': 10}\n",
    "반환값: ['K', 'n']\n",
    "\n",
    "입력:   {'j': 10, 'M': 6, 'C': 3, 'q': 6, 'x': 2, 'E': 2, 'd': 1, 'T': 9, 'D': 1, 'e': 9}\n",
    "반환값: ['C', 'j']\n",
    "\n",
    "입력:   {'j': 2, 'y': 6, 'S': 10, 'T': 1, 'W': 10, 'k': 4, 'g': 6, 'Z': 7, 'c': 6}\n",
    "반환값: ['T', 'Z', 'j', 'k']\n",
    "\n",
    "입력:   {'B': 5, 'l': 6, 'L': 9, 'c': 1, 'e': 6, 'C': 7, 'Y': 9, 'O': 9, 'm': 6}\n",
    "반환값: ['B', 'C', 'c']\n",
    "\n",
    "입력:   {'c': 5, 'k': 6, 'A': 5, 'C': 7, 'z': 6, 'W': 7, 'b': 5, 'Q': 9, 'n': 9}\n",
    "반환값: [ ]\n",
    "```\n"
   ]
  },
  {
   "cell_type": "code",
   "execution_count": 26,
   "metadata": {},
   "outputs": [
    {
     "name": "stdout",
     "output_type": "stream",
     "text": [
      "['D', 'O', 'k']\n",
      "['L', 'M', 'O', 'f', 'k', 'o']\n",
      "['E', 'I', 'N', 'e', 'f', 'j', 'v']\n",
      "['K', 'n']\n",
      "['C', 'j']\n",
      "['T', 'Z', 'j', 'k']\n",
      "['B', 'C', 'c']\n"
     ]
    }
   ],
   "source": [
    "def get_keys_of_unique_values(d):\n",
    "    lst = []\n",
    "    for i in d:\n",
    "        count = 0\n",
    "        for j in d:\n",
    "            if i != j and d[i] == d[j]:\n",
    "                count += 1\n",
    "            \n",
    "        if count == 0:\n",
    "            lst.append(i)\n",
    "            \n",
    "        lst.sort()\n",
    "                \n",
    "    return lst\n",
    "\n",
    "\n",
    "dictionaries = [{'i': 2, 'k': 5, 'D': 9, 'O': 1, 'L': 10, 'E': 2, 'p': 10},\n",
    "                {'B': 8, 'O': 4, 'o': 2, 'u': 5, 'f': 6, 'M': 7, 'k': 10, 'Q': 8, 'L': 1, 'F': 5},\n",
    "                {'N': 1, 't': 10, 'G': 10, 'X': 10, 'e': 3, 'j': 5, 'f': 6, 'E': 9, 'v': 4, 'I': 2},\n",
    "                {'K': 6, 'w': 1, 'U': 10, 'W': 1, 'R': 3, 'v': 3, 'n': 9, 'T': 10},\n",
    "                {'j': 10, 'M': 6, 'C': 3, 'q': 6, 'x': 2, 'E': 2, 'd': 1, 'T': 9, 'D': 1, 'e': 9},\n",
    "                {'j': 2, 'y': 6, 'S': 10, 'T': 1, 'W': 10, 'k': 4, 'g': 6, 'Z': 7, 'c': 6},\n",
    "                {'B': 5, 'l': 6, 'L': 9, 'c': 1, 'e': 6, 'C': 7, 'Y': 9, 'O': 9, 'm': 6}\n",
    "               ]\n",
    "\n",
    "for d in dictionaries:\n",
    "    print(get_keys_of_unique_values(d))"
   ]
  },
  {
   "cell_type": "markdown",
   "metadata": {},
   "source": [
    "### 문제 2.\n",
    "\n",
    "다음과 같이 주어지는 분수를 표현하는 문자열의 튜플이 있다.\n",
    "```\n",
    "fractions = ('16/32',  '49/43',  '51/62',  '38/27',  '17/76',  '30/58',\n",
    "             '45/74',  '20/74',  '26/95',  '34/37',  '34/59',  '38/97',\n",
    "             '45/34',  '26/26',  '28/76',  '38/36',  '33/87',  '24/47',\n",
    "             '46/98',  '25/66')\n",
    "```\n",
    "문자열의 split method를 사용하여 문자열로 표현된 분수 중 분모(denominator)가 가장 큰 분수를 구하여 콘솔에 출력하는 프로그램을 작성하라.\n"
   ]
  },
  {
   "cell_type": "code",
   "execution_count": 91,
   "metadata": {},
   "outputs": [
    {
     "data": {
      "text/plain": [
       "['15', '32']"
      ]
     },
     "execution_count": 91,
     "metadata": {},
     "output_type": "execute_result"
    }
   ],
   "source": [
    "'15/32'.split('/')"
   ]
  },
  {
   "cell_type": "code",
   "execution_count": 12,
   "metadata": {},
   "outputs": [
    {
     "name": "stdout",
     "output_type": "stream",
     "text": [
      "46/98\n"
     ]
    }
   ],
   "source": [
    "fractions = ('16/32',  '49/43',  '51/62',  '38/27',  '17/76',  '30/58',\n",
    "             '45/74',  '20/74',  '26/95',  '34/37',  '34/59',  '38/97',\n",
    "             '45/34',  '26/26',  '28/76',  '38/36',  '33/87',  '24/47',\n",
    "             '46/98',  '25/66')\n",
    "\n",
    "# 이 부분에 코드를 완성하라\n",
    "Max = 0\n",
    "tmp = 0\n",
    "for i in fractions:\n",
    "    n = i.split('/')\n",
    "    if Max < int(n[1]):\n",
    "        Max = int(n[1])\n",
    "        tmp = i\n",
    "print(tmp)       "
   ]
  },
  {
   "cell_type": "markdown",
   "metadata": {},
   "source": [
    "### 문제 3.\n",
    "\n",
    "$[a, b]$에서 적분가능한 함수 $f(x)$의 적분 근사값을 다음과 같이 정의하자.\n",
    "\n",
    "$$\\displaystyle \\int_a^b f(x) \\; dx \\approx  \\sum_{k=0}^{n-1} f(x_k) \\Delta,$$\n",
    "여기에서 $\\Delta = \\frac{b-a}{n}$ and $x_k = a + \\Delta k $.\n",
    "\n",
    "\n"
   ]
  },
  {
   "cell_type": "markdown",
   "metadata": {},
   "source": [
    "#### 문제 3-1\n",
    "\n",
    "이 적분의 근사식을 반환하는 함수 approximate_integrate(f, a, b, /, n=100) 를 완성하라. 단, 함수 내부에 for loop을 사용하여야 한다.\n",
    "\n",
    "여기에서 f는 적분할 함수이고, a, b, n은 위의 설명과 같다."
   ]
  },
  {
   "cell_type": "code",
   "execution_count": 76,
   "metadata": {},
   "outputs": [],
   "source": [
    "def approximate_integrate(f, a, b, /, n=100):\n",
    "    s = 0\n",
    "    d = (b - a) / n\n",
    "    for k in range(n):\n",
    "        s += a + d * k\n",
    "    \n",
    "    return s"
   ]
  },
  {
   "cell_type": "markdown",
   "metadata": {},
   "source": [
    "#### 문제 3-2\n",
    "\n",
    "문제 3-1에서 만든 함수 내부에서 reduce 함수를 사용하여 approximate_integrate_reduce(f, a, b, /, n=100) 를 완성하라.\n"
   ]
  },
  {
   "cell_type": "code",
   "execution_count": 75,
   "metadata": {},
   "outputs": [],
   "source": [
    "def approximate_integrate_reduce(f, a, b, /, n=100):\n",
    "    s = 0\n",
    "    d = (b - a) / n\n",
    "    for k in range(n):\n",
    "        s += a + d * k\n",
    "    return s"
   ]
  },
  {
   "cell_type": "markdown",
   "metadata": {},
   "source": [
    "#### 문제 3-3\n",
    "\n",
    "문제 3-1 또는 3-2에서 만든 함수를 이용해서 다음 적분의 근사값을 구하려고 한다.\n",
    "\n",
    "$$\\displaystyle \\int_0^{\\pi/2} \\sin(x) \\; dx = 1,$$\n",
    "\n",
    "단, $n = 10, 20, 30, 40, 50, 60, 70, 80, 90, 100$일 때 적분의 근사값을 구하고 1에서 이 근사값을 뺀 오차를 아래 그래프처럼 그리는 프로그램을 완성하라.\n",
    "\n",
    "예를 들어서, $n = 10, 20, 30, 40, 50, 60, 70, 80, 90, 100$일 때 적분의 근사값과 오차(1-근사값)은 다음과 같이 구해진다.\n",
    "\n",
    "```\n",
    "n=10: 근사값 = 0.9194031700146124, 오차 = 0.08059682998538764\n",
    "n=20: 근사값 = 0.9602159970786605, 오차 = 0.039784002921339545\n",
    "n=30: 근사값 = 0.9735915877154891, 오차 = 0.02640841228451085\n",
    "n=40: 근사값 = 0.9802365321379816, 오차 = 0.019763467862018436\n",
    "n=50: 근사값 = 0.9842097886757729, 오차 = 0.015790211324227088\n",
    "n=60: 근사값 = 0.9868529141913794, 오차 = 0.013147085808620562\n",
    "n=70: 근사값 = 0.9887380632812566, 오차 = 0.011261936718743426\n",
    "n=80: 근사값 = 0.9901503951326001, 오차 = 0.009849604867399941\n",
    "n=90: 근사값 = 0.9912479688261675, 오차 = 0.008752031173832497\n",
    "n=100: 근사값 = 0.9921254566056331, 오차 = 0.007874543394366884\n",
    "```\n",
    "\n",
    "<img src='approximation_error.png' width='60%'></img>"
   ]
  },
  {
   "cell_type": "code",
   "execution_count": 77,
   "metadata": {},
   "outputs": [
    {
     "ename": "TypeError",
     "evalue": "'sin' object is not callable",
     "output_type": "error",
     "traceback": [
      "\u001b[1;31m---------------------------------------------------------------------------\u001b[0m",
      "\u001b[1;31mTypeError\u001b[0m                                 Traceback (most recent call last)",
      "\u001b[1;32m<ipython-input-77-93fc965b35e7>\u001b[0m in \u001b[0;36m<module>\u001b[1;34m\u001b[0m\n\u001b[0;32m      7\u001b[0m \u001b[1;33m\u001b[0m\u001b[0m\n\u001b[0;32m      8\u001b[0m \u001b[1;32mfor\u001b[0m \u001b[0mi\u001b[0m \u001b[1;32min\u001b[0m \u001b[0mrange\u001b[0m\u001b[1;33m(\u001b[0m\u001b[1;36m10\u001b[0m\u001b[1;33m,\u001b[0m \u001b[1;36m101\u001b[0m\u001b[1;33m,\u001b[0m \u001b[1;36m10\u001b[0m\u001b[1;33m)\u001b[0m\u001b[1;33m:\u001b[0m\u001b[1;33m\u001b[0m\u001b[1;33m\u001b[0m\u001b[0m\n\u001b[1;32m----> 9\u001b[1;33m     \u001b[0mprint\u001b[0m\u001b[1;33m(\u001b[0m\u001b[0mapproximate_integrate_reduce\u001b[0m\u001b[1;33m(\u001b[0m\u001b[0mf\u001b[0m\u001b[1;33m,\u001b[0m \u001b[1;36m0\u001b[0m\u001b[1;33m,\u001b[0m \u001b[0mmath\u001b[0m\u001b[1;33m.\u001b[0m\u001b[0mpi\u001b[0m\u001b[1;33m/\u001b[0m\u001b[1;36m2\u001b[0m\u001b[1;33m,\u001b[0m \u001b[0mi\u001b[0m\u001b[1;33m)\u001b[0m\u001b[1;33m)\u001b[0m\u001b[1;33m\u001b[0m\u001b[1;33m\u001b[0m\u001b[0m\n\u001b[0m",
      "\u001b[1;32m<ipython-input-75-c6a53418a032>\u001b[0m in \u001b[0;36mapproximate_integrate_reduce\u001b[1;34m(f, a, b, n)\u001b[0m\n\u001b[0;32m      5\u001b[0m     \u001b[1;32mfor\u001b[0m \u001b[0mk\u001b[0m \u001b[1;32min\u001b[0m \u001b[0mrange\u001b[0m\u001b[1;33m(\u001b[0m\u001b[0mn\u001b[0m\u001b[1;33m)\u001b[0m\u001b[1;33m:\u001b[0m\u001b[1;33m\u001b[0m\u001b[1;33m\u001b[0m\u001b[0m\n\u001b[0;32m      6\u001b[0m         \u001b[0ms\u001b[0m\u001b[1;33m.\u001b[0m\u001b[0mappend\u001b[0m\u001b[1;33m(\u001b[0m\u001b[0ma\u001b[0m \u001b[1;33m+\u001b[0m \u001b[0md\u001b[0m \u001b[1;33m*\u001b[0m \u001b[0mk\u001b[0m\u001b[1;33m)\u001b[0m\u001b[1;33m\u001b[0m\u001b[1;33m\u001b[0m\u001b[0m\n\u001b[1;32m----> 7\u001b[1;33m     \u001b[1;32mreturn\u001b[0m \u001b[0mreduce\u001b[0m\u001b[1;33m(\u001b[0m\u001b[0mf\u001b[0m\u001b[1;33m,\u001b[0m \u001b[0ms\u001b[0m\u001b[1;33m)\u001b[0m\u001b[1;33m\u001b[0m\u001b[1;33m\u001b[0m\u001b[0m\n\u001b[0m",
      "\u001b[1;31mTypeError\u001b[0m: 'sin' object is not callable"
     ]
    }
   ],
   "source": [
    "## 이 셀의 빈 부분을 완성하여 위의 그래프와 똑같은 그래프를 그려라\n",
    "from sympy import *\n",
    "import math\n",
    "x = Symbol('x')\n",
    "f = sin(x)\n",
    "num = integrate(f, (x, 0, math.pi/2))\n",
    "\n",
    "for i in range(10, 101, 10):\n",
    "    print(approximate_integrate_reduce(f, 0, math.pi/2, i))\n"
   ]
  },
  {
   "cell_type": "markdown",
   "metadata": {},
   "source": [
    "### 문제 4.\n",
    "\n",
    "다음 재귀 함수 magic이 왜 이런 출력을 내는지 이 프로그램의 각 라인이 동작되는 순서와 각 라인에서 n 값이 어떻게 변하는지 설명하라.\n",
    "\n",
    "설명 예:\n",
    "\n",
    "- line 7: magic(3945)\n",
    "- line 1: def magic(n) - n에 3945의 주소가 전달된다\n",
    "- line 2: \n",
    ".\n",
    ".\n",
    "."
   ]
  },
  {
   "cell_type": "code",
   "execution_count": 92,
   "metadata": {
    "scrolled": true
   },
   "outputs": [
    {
     "name": "stdout",
     "output_type": "stream",
     "text": [
      "3945\n",
      "394\n",
      "39\n",
      "3\n",
      "39\n",
      "394\n",
      "3945\n"
     ]
    }
   ],
   "source": [
    "def magic(n):\n",
    "    print(n)\n",
    "    if n >= 10:\n",
    "        magic(n//10)\n",
    "        print(n) \n",
    "\n",
    "magic(3945)        "
   ]
  },
  {
   "cell_type": "markdown",
   "metadata": {},
   "source": [
    "**답**:\n",
    "- line 7: magic(3945)\n",
    "- line 1: def magic(n) - n에 3945의 주소가 전달된다\n",
    "- line 2: n의 값인 3945가 출력된다\n",
    "- line 3: 3945는 10보다 크기 때문에 magic(394)\n",
    "- line 4: n의 값인 394가 출력되고 394가 10 이상이기 때문에 magic(39)\n",
    "- line 5: n의 값인 39가 출력되고 394가 10 이상이기 때문에 magic(3)\n",
    "- line 6: n의 값이 10 미만이기 때문에 magic(3)함수를 빠져나온다.\n",
    "- line 7: magic(3)이 실행되었던 곳으로 돌아가서 print(39)가 실행된다\n",
    "- line 8: 39가 출력되고 magic(39)로 돌아가서 print(394)가 실행된다.\n",
    "- line 9: 394가 출력되고 magic(394)로 돌아가서 print(3945)가 실행된다.\n",
    "- line 10: 3945가 출력되고 프로그램이 종료된다.\n"
   ]
  }
 ],
 "metadata": {
  "kernelspec": {
   "display_name": "Python 3",
   "language": "python",
   "name": "python3"
  },
  "language_info": {
   "codemirror_mode": {
    "name": "ipython",
    "version": 3
   },
   "file_extension": ".py",
   "mimetype": "text/x-python",
   "name": "python",
   "nbconvert_exporter": "python",
   "pygments_lexer": "ipython3",
   "version": "3.8.5"
  },
  "latex_envs": {
   "LaTeX_envs_menu_present": true,
   "autoclose": false,
   "autocomplete": true,
   "bibliofile": "biblio.bib",
   "cite_by": "apalike",
   "current_citInitial": 1,
   "eqLabelWithNumbers": true,
   "eqNumInitial": 1,
   "hotkeys": {
    "equation": "Ctrl-E",
    "itemize": "Ctrl-I"
   },
   "labels_anchors": false,
   "latex_user_defs": false,
   "report_style_numbering": false,
   "user_envs_cfg": false
  },
  "toc": {
   "base_numbering": 1,
   "nav_menu": {},
   "number_sections": false,
   "sideBar": true,
   "skip_h1_title": false,
   "title_cell": "Table of Contents",
   "title_sidebar": "Contents",
   "toc_cell": false,
   "toc_position": {
    "height": "calc(100% - 180px)",
    "left": "10px",
    "top": "150px",
    "width": "270.5px"
   },
   "toc_section_display": true,
   "toc_window_display": false
  }
 },
 "nbformat": 4,
 "nbformat_minor": 2
}
